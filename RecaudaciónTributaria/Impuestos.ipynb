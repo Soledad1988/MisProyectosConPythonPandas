{
 "cells": [
  {
   "cell_type": "code",
   "execution_count": 145,
   "id": "c69fec05-45c7-4b0a-b97e-2b53db182697",
   "metadata": {},
   "outputs": [],
   "source": [
    "import pandas as pd\n",
    "import matplotlib.pyplot as plt\n",
    "import plotly.graph_objects as go"
   ]
  },
  {
   "cell_type": "code",
   "execution_count": 149,
   "id": "1c89ae2f-e29b-41ad-8b92-bef314664259",
   "metadata": {},
   "outputs": [
    {
     "data": {
      "text/html": [
       "<div>\n",
       "<style scoped>\n",
       "    .dataframe tbody tr th:only-of-type {\n",
       "        vertical-align: middle;\n",
       "    }\n",
       "\n",
       "    .dataframe tbody tr th {\n",
       "        vertical-align: top;\n",
       "    }\n",
       "\n",
       "    .dataframe thead th {\n",
       "        text-align: right;\n",
       "    }\n",
       "</style>\n",
       "<table border=\"1\" class=\"dataframe\">\n",
       "  <thead>\n",
       "    <tr style=\"text-align: right;\">\n",
       "      <th></th>\n",
       "      <th>indice_tiempo</th>\n",
       "      <th>total_recaudacion</th>\n",
       "      <th>subtotal_dgi</th>\n",
       "      <th>subtotal_dga</th>\n",
       "      <th>seguridad_social</th>\n",
       "      <th>total_recaudacion_var_ia</th>\n",
       "      <th>subtotal_dgi_var_ia</th>\n",
       "      <th>subtotal_dga_var_ia</th>\n",
       "      <th>seguridad_social_var_ia</th>\n",
       "    </tr>\n",
       "  </thead>\n",
       "  <tbody>\n",
       "    <tr>\n",
       "      <th>0</th>\n",
       "      <td>1997-01-01</td>\n",
       "      <td>4353.758957</td>\n",
       "      <td>2313.675149</td>\n",
       "      <td>884.341249</td>\n",
       "      <td>1155.742559</td>\n",
       "      <td>NaN</td>\n",
       "      <td>NaN</td>\n",
       "      <td>NaN</td>\n",
       "      <td>NaN</td>\n",
       "    </tr>\n",
       "    <tr>\n",
       "      <th>1</th>\n",
       "      <td>1997-02-01</td>\n",
       "      <td>3634.762208</td>\n",
       "      <td>2038.650251</td>\n",
       "      <td>744.108489</td>\n",
       "      <td>852.003468</td>\n",
       "      <td>NaN</td>\n",
       "      <td>NaN</td>\n",
       "      <td>NaN</td>\n",
       "      <td>NaN</td>\n",
       "    </tr>\n",
       "    <tr>\n",
       "      <th>2</th>\n",
       "      <td>1997-03-01</td>\n",
       "      <td>3531.360254</td>\n",
       "      <td>1955.433261</td>\n",
       "      <td>799.976108</td>\n",
       "      <td>775.950885</td>\n",
       "      <td>NaN</td>\n",
       "      <td>NaN</td>\n",
       "      <td>NaN</td>\n",
       "      <td>NaN</td>\n",
       "    </tr>\n",
       "    <tr>\n",
       "      <th>3</th>\n",
       "      <td>1997-04-01</td>\n",
       "      <td>3939.777343</td>\n",
       "      <td>2154.340531</td>\n",
       "      <td>960.913514</td>\n",
       "      <td>824.523297</td>\n",
       "      <td>NaN</td>\n",
       "      <td>NaN</td>\n",
       "      <td>NaN</td>\n",
       "      <td>NaN</td>\n",
       "    </tr>\n",
       "    <tr>\n",
       "      <th>4</th>\n",
       "      <td>1997-05-01</td>\n",
       "      <td>4600.930508</td>\n",
       "      <td>2778.211277</td>\n",
       "      <td>984.078415</td>\n",
       "      <td>838.640816</td>\n",
       "      <td>NaN</td>\n",
       "      <td>NaN</td>\n",
       "      <td>NaN</td>\n",
       "      <td>NaN</td>\n",
       "    </tr>\n",
       "  </tbody>\n",
       "</table>\n",
       "</div>"
      ],
      "text/plain": [
       "  indice_tiempo  total_recaudacion  subtotal_dgi  subtotal_dga  \\\n",
       "0    1997-01-01        4353.758957   2313.675149    884.341249   \n",
       "1    1997-02-01        3634.762208   2038.650251    744.108489   \n",
       "2    1997-03-01        3531.360254   1955.433261    799.976108   \n",
       "3    1997-04-01        3939.777343   2154.340531    960.913514   \n",
       "4    1997-05-01        4600.930508   2778.211277    984.078415   \n",
       "\n",
       "   seguridad_social  total_recaudacion_var_ia  subtotal_dgi_var_ia  \\\n",
       "0       1155.742559                       NaN                  NaN   \n",
       "1        852.003468                       NaN                  NaN   \n",
       "2        775.950885                       NaN                  NaN   \n",
       "3        824.523297                       NaN                  NaN   \n",
       "4        838.640816                       NaN                  NaN   \n",
       "\n",
       "   subtotal_dga_var_ia  seguridad_social_var_ia  \n",
       "0                  NaN                      NaN  \n",
       "1                  NaN                      NaN  \n",
       "2                  NaN                      NaN  \n",
       "3                  NaN                      NaN  \n",
       "4                  NaN                      NaN  "
      ]
     },
     "execution_count": 149,
     "metadata": {},
     "output_type": "execute_result"
    }
   ],
   "source": [
    "df = pd.read_csv(\"C:/Users/brent/OneDrive/Escritorio/RecaudaciónTributaria/recaudacion-tributaria-datos-mensuales.csv\")\n",
    "df.head()"
   ]
  },
  {
   "cell_type": "code",
   "execution_count": 151,
   "id": "b8d9bcba-35c3-4f27-bedb-aa2327a9d5ab",
   "metadata": {},
   "outputs": [
    {
     "data": {
      "text/plain": [
       "(338, 9)"
      ]
     },
     "execution_count": 151,
     "metadata": {},
     "output_type": "execute_result"
    }
   ],
   "source": [
    "# cuántas filas y columnas tiene nuestro DF\n",
    "df.shape"
   ]
  },
  {
   "cell_type": "code",
   "execution_count": 153,
   "id": "f309a9fa-722e-4f26-96c8-16aaa277e228",
   "metadata": {},
   "outputs": [
    {
     "data": {
      "text/plain": [
       "Index(['indice_tiempo', 'total_recaudacion', 'subtotal_dgi', 'subtotal_dga',\n",
       "       'seguridad_social', 'total_recaudacion_var_ia', 'subtotal_dgi_var_ia',\n",
       "       'subtotal_dga_var_ia', 'seguridad_social_var_ia'],\n",
       "      dtype='object')"
      ]
     },
     "execution_count": 153,
     "metadata": {},
     "output_type": "execute_result"
    }
   ],
   "source": [
    "# veamos cómo están nombradas las variables\n",
    "df.columns"
   ]
  },
  {
   "cell_type": "code",
   "execution_count": 155,
   "id": "8c359301-af9f-43d1-ad9b-9cd2432d7d52",
   "metadata": {},
   "outputs": [
    {
     "name": "stdout",
     "output_type": "stream",
     "text": [
      "<class 'pandas.core.frame.DataFrame'>\n",
      "RangeIndex: 338 entries, 0 to 337\n",
      "Data columns (total 9 columns):\n",
      " #   Column                    Non-Null Count  Dtype  \n",
      "---  ------                    --------------  -----  \n",
      " 0   indice_tiempo             338 non-null    object \n",
      " 1   total_recaudacion         338 non-null    float64\n",
      " 2   subtotal_dgi              338 non-null    float64\n",
      " 3   subtotal_dga              338 non-null    float64\n",
      " 4   seguridad_social          338 non-null    float64\n",
      " 5   total_recaudacion_var_ia  326 non-null    float64\n",
      " 6   subtotal_dgi_var_ia       290 non-null    float64\n",
      " 7   subtotal_dga_var_ia       290 non-null    float64\n",
      " 8   seguridad_social_var_ia   290 non-null    float64\n",
      "dtypes: float64(8), object(1)\n",
      "memory usage: 23.9+ KB\n"
     ]
    }
   ],
   "source": [
    "#Muestra un resumen completo del DataFrame\n",
    "df.info()"
   ]
  },
  {
   "cell_type": "code",
   "execution_count": 157,
   "id": "8afaa0a6-0d7f-490d-b27e-20a739793386",
   "metadata": {},
   "outputs": [
    {
     "data": {
      "text/html": [
       "<div>\n",
       "<style scoped>\n",
       "    .dataframe tbody tr th:only-of-type {\n",
       "        vertical-align: middle;\n",
       "    }\n",
       "\n",
       "    .dataframe tbody tr th {\n",
       "        vertical-align: top;\n",
       "    }\n",
       "\n",
       "    .dataframe thead th {\n",
       "        text-align: right;\n",
       "    }\n",
       "</style>\n",
       "<table border=\"1\" class=\"dataframe\">\n",
       "  <thead>\n",
       "    <tr style=\"text-align: right;\">\n",
       "      <th></th>\n",
       "      <th>indice_tiempo</th>\n",
       "      <th>total_recaudacion</th>\n",
       "      <th>subtotal_dgi</th>\n",
       "      <th>subtotal_dga</th>\n",
       "      <th>seguridad_social</th>\n",
       "      <th>total_recaudacion_var_ia</th>\n",
       "      <th>subtotal_dgi_var_ia</th>\n",
       "      <th>subtotal_dga_var_ia</th>\n",
       "      <th>seguridad_social_var_ia</th>\n",
       "    </tr>\n",
       "  </thead>\n",
       "  <tbody>\n",
       "    <tr>\n",
       "      <th>300</th>\n",
       "      <td>2022-01-01</td>\n",
       "      <td>1.171943e+06</td>\n",
       "      <td>592368.220503</td>\n",
       "      <td>269661.122812</td>\n",
       "      <td>309913.720446</td>\n",
       "      <td>0.516372</td>\n",
       "      <td>0.552926</td>\n",
       "      <td>0.327452</td>\n",
       "      <td>0.646158</td>\n",
       "    </tr>\n",
       "    <tr>\n",
       "      <th>301</th>\n",
       "      <td>2022-02-01</td>\n",
       "      <td>1.166514e+06</td>\n",
       "      <td>601202.000752</td>\n",
       "      <td>306425.024041</td>\n",
       "      <td>258887.215815</td>\n",
       "      <td>0.627856</td>\n",
       "      <td>0.565780</td>\n",
       "      <td>0.733741</td>\n",
       "      <td>0.660704</td>\n",
       "    </tr>\n",
       "    <tr>\n",
       "      <th>302</th>\n",
       "      <td>2022-03-01</td>\n",
       "      <td>1.241089e+06</td>\n",
       "      <td>585106.663420</td>\n",
       "      <td>391818.682050</td>\n",
       "      <td>264163.611647</td>\n",
       "      <td>0.624764</td>\n",
       "      <td>0.529989</td>\n",
       "      <td>0.775086</td>\n",
       "      <td>0.643831</td>\n",
       "    </tr>\n",
       "    <tr>\n",
       "      <th>303</th>\n",
       "      <td>2022-04-01</td>\n",
       "      <td>1.341595e+06</td>\n",
       "      <td>714474.348860</td>\n",
       "      <td>336534.497495</td>\n",
       "      <td>290586.509765</td>\n",
       "      <td>0.640329</td>\n",
       "      <td>0.646766</td>\n",
       "      <td>0.563843</td>\n",
       "      <td>0.721280</td>\n",
       "    </tr>\n",
       "    <tr>\n",
       "      <th>304</th>\n",
       "      <td>2022-05-01</td>\n",
       "      <td>1.551370e+06</td>\n",
       "      <td>864042.554569</td>\n",
       "      <td>384304.162031</td>\n",
       "      <td>303023.246234</td>\n",
       "      <td>0.798732</td>\n",
       "      <td>0.872008</td>\n",
       "      <td>0.681480</td>\n",
       "      <td>0.757985</td>\n",
       "    </tr>\n",
       "  </tbody>\n",
       "</table>\n",
       "</div>"
      ],
      "text/plain": [
       "    indice_tiempo  total_recaudacion   subtotal_dgi   subtotal_dga  \\\n",
       "300    2022-01-01       1.171943e+06  592368.220503  269661.122812   \n",
       "301    2022-02-01       1.166514e+06  601202.000752  306425.024041   \n",
       "302    2022-03-01       1.241089e+06  585106.663420  391818.682050   \n",
       "303    2022-04-01       1.341595e+06  714474.348860  336534.497495   \n",
       "304    2022-05-01       1.551370e+06  864042.554569  384304.162031   \n",
       "\n",
       "     seguridad_social  total_recaudacion_var_ia  subtotal_dgi_var_ia  \\\n",
       "300     309913.720446                  0.516372             0.552926   \n",
       "301     258887.215815                  0.627856             0.565780   \n",
       "302     264163.611647                  0.624764             0.529989   \n",
       "303     290586.509765                  0.640329             0.646766   \n",
       "304     303023.246234                  0.798732             0.872008   \n",
       "\n",
       "     subtotal_dga_var_ia  seguridad_social_var_ia  \n",
       "300             0.327452                 0.646158  \n",
       "301             0.733741                 0.660704  \n",
       "302             0.775086                 0.643831  \n",
       "303             0.563843                 0.721280  \n",
       "304             0.681480                 0.757985  "
      ]
     },
     "execution_count": 157,
     "metadata": {},
     "output_type": "execute_result"
    }
   ],
   "source": [
    "# Convertir la columna de fechas a formato datetime\n",
    "df[\"indice_tiempo\"] = pd.to_datetime(df[\"indice_tiempo\"])\n",
    "\n",
    "# Obtener el año actual\n",
    "anio_actual = pd.Timestamp.today().year\n",
    "\n",
    "# Filtrar los últimos 3 años\n",
    "df_ultimos_3_anios = df[df[\"indice_tiempo\"].dt.year >= (anio_actual - 3)]\n",
    "\n",
    "# Mostrar los primeros registros del nuevo dataset\n",
    "df_ultimos_3_anios.head()"
   ]
  },
  {
   "cell_type": "code",
   "execution_count": 159,
   "id": "371d21ba-0d50-4581-a843-441fadcb2ef0",
   "metadata": {},
   "outputs": [
    {
     "data": {
      "text/plain": [
       "indice_tiempo               0\n",
       "total_recaudacion           0\n",
       "subtotal_dgi                0\n",
       "subtotal_dga                0\n",
       "seguridad_social            0\n",
       "total_recaudacion_var_ia    0\n",
       "subtotal_dgi_var_ia         0\n",
       "subtotal_dga_var_ia         0\n",
       "seguridad_social_var_ia     0\n",
       "dtype: int64"
      ]
     },
     "execution_count": 159,
     "metadata": {},
     "output_type": "execute_result"
    }
   ],
   "source": [
    "# Comprobamos si hay nulos\n",
    "df_ultimos_3_anios.isnull().sum()"
   ]
  },
  {
   "cell_type": "code",
   "execution_count": 161,
   "id": "6ab5c856-1b08-4d0f-8226-26fb79deba3a",
   "metadata": {},
   "outputs": [],
   "source": [
    "# Renombarar columnas para mayor compreniòn\n",
    "df_ultimos_3_anios = df_ultimos_3_anios.rename(columns={\"subtotal_dgi\": \"DGI\", \"subtotal_dga\": \"DGA\"}).copy()"
   ]
  },
  {
   "cell_type": "code",
   "execution_count": 163,
   "id": "da5638d5-d7ca-4560-aa06-181b3135f3c3",
   "metadata": {},
   "outputs": [
    {
     "data": {
      "text/html": [
       "<div>\n",
       "<style scoped>\n",
       "    .dataframe tbody tr th:only-of-type {\n",
       "        vertical-align: middle;\n",
       "    }\n",
       "\n",
       "    .dataframe tbody tr th {\n",
       "        vertical-align: top;\n",
       "    }\n",
       "\n",
       "    .dataframe thead th {\n",
       "        text-align: right;\n",
       "    }\n",
       "</style>\n",
       "<table border=\"1\" class=\"dataframe\">\n",
       "  <thead>\n",
       "    <tr style=\"text-align: right;\">\n",
       "      <th></th>\n",
       "      <th>indice_tiempo</th>\n",
       "      <th>total_recaudacion</th>\n",
       "      <th>DGI</th>\n",
       "      <th>DGA</th>\n",
       "      <th>seguridad_social</th>\n",
       "      <th>total_recaudacion_var_ia</th>\n",
       "      <th>subtotal_dgi_var_ia</th>\n",
       "      <th>subtotal_dga_var_ia</th>\n",
       "      <th>seguridad_social_var_ia</th>\n",
       "    </tr>\n",
       "  </thead>\n",
       "  <tbody>\n",
       "    <tr>\n",
       "      <th>300</th>\n",
       "      <td>2022-01-01</td>\n",
       "      <td>1.171943e+06</td>\n",
       "      <td>5.923682e+05</td>\n",
       "      <td>2.696611e+05</td>\n",
       "      <td>3.099137e+05</td>\n",
       "      <td>0.516372</td>\n",
       "      <td>0.552926</td>\n",
       "      <td>0.327452</td>\n",
       "      <td>0.646158</td>\n",
       "    </tr>\n",
       "    <tr>\n",
       "      <th>301</th>\n",
       "      <td>2022-02-01</td>\n",
       "      <td>1.166514e+06</td>\n",
       "      <td>6.012020e+05</td>\n",
       "      <td>3.064250e+05</td>\n",
       "      <td>2.588872e+05</td>\n",
       "      <td>0.627856</td>\n",
       "      <td>0.565780</td>\n",
       "      <td>0.733741</td>\n",
       "      <td>0.660704</td>\n",
       "    </tr>\n",
       "    <tr>\n",
       "      <th>302</th>\n",
       "      <td>2022-03-01</td>\n",
       "      <td>1.241089e+06</td>\n",
       "      <td>5.851067e+05</td>\n",
       "      <td>3.918187e+05</td>\n",
       "      <td>2.641636e+05</td>\n",
       "      <td>0.624764</td>\n",
       "      <td>0.529989</td>\n",
       "      <td>0.775086</td>\n",
       "      <td>0.643831</td>\n",
       "    </tr>\n",
       "    <tr>\n",
       "      <th>303</th>\n",
       "      <td>2022-04-01</td>\n",
       "      <td>1.341595e+06</td>\n",
       "      <td>7.144743e+05</td>\n",
       "      <td>3.365345e+05</td>\n",
       "      <td>2.905865e+05</td>\n",
       "      <td>0.640329</td>\n",
       "      <td>0.646766</td>\n",
       "      <td>0.563843</td>\n",
       "      <td>0.721280</td>\n",
       "    </tr>\n",
       "    <tr>\n",
       "      <th>304</th>\n",
       "      <td>2022-05-01</td>\n",
       "      <td>1.551370e+06</td>\n",
       "      <td>8.640426e+05</td>\n",
       "      <td>3.843042e+05</td>\n",
       "      <td>3.030232e+05</td>\n",
       "      <td>0.798732</td>\n",
       "      <td>0.872008</td>\n",
       "      <td>0.681480</td>\n",
       "      <td>0.757985</td>\n",
       "    </tr>\n",
       "    <tr>\n",
       "      <th>305</th>\n",
       "      <td>2022-06-01</td>\n",
       "      <td>1.680901e+06</td>\n",
       "      <td>9.839717e+05</td>\n",
       "      <td>3.812812e+05</td>\n",
       "      <td>3.156485e+05</td>\n",
       "      <td>0.821418</td>\n",
       "      <td>0.975456</td>\n",
       "      <td>0.510531</td>\n",
       "      <td>0.831550</td>\n",
       "    </tr>\n",
       "    <tr>\n",
       "      <th>306</th>\n",
       "      <td>2022-07-01</td>\n",
       "      <td>1.745178e+06</td>\n",
       "      <td>9.112681e+05</td>\n",
       "      <td>4.037051e+05</td>\n",
       "      <td>4.302049e+05</td>\n",
       "      <td>0.870101</td>\n",
       "      <td>1.008316</td>\n",
       "      <td>0.686001</td>\n",
       "      <td>0.792465</td>\n",
       "    </tr>\n",
       "    <tr>\n",
       "      <th>307</th>\n",
       "      <td>2022-08-01</td>\n",
       "      <td>1.731319e+06</td>\n",
       "      <td>9.721383e+05</td>\n",
       "      <td>4.056555e+05</td>\n",
       "      <td>3.535257e+05</td>\n",
       "      <td>0.722181</td>\n",
       "      <td>0.713831</td>\n",
       "      <td>0.668156</td>\n",
       "      <td>0.813893</td>\n",
       "    </tr>\n",
       "    <tr>\n",
       "      <th>308</th>\n",
       "      <td>2022-09-01</td>\n",
       "      <td>2.127181e+06</td>\n",
       "      <td>9.990536e+05</td>\n",
       "      <td>7.589519e+05</td>\n",
       "      <td>3.691752e+05</td>\n",
       "      <td>1.178787</td>\n",
       "      <td>0.926838</td>\n",
       "      <td>1.980186</td>\n",
       "      <td>0.817216</td>\n",
       "    </tr>\n",
       "    <tr>\n",
       "      <th>309</th>\n",
       "      <td>2022-10-01</td>\n",
       "      <td>1.964056e+06</td>\n",
       "      <td>1.150852e+06</td>\n",
       "      <td>4.199222e+05</td>\n",
       "      <td>3.932819e+05</td>\n",
       "      <td>0.927845</td>\n",
       "      <td>1.109644</td>\n",
       "      <td>0.579255</td>\n",
       "      <td>0.896573</td>\n",
       "    </tr>\n",
       "    <tr>\n",
       "      <th>310</th>\n",
       "      <td>2022-11-01</td>\n",
       "      <td>1.953860e+06</td>\n",
       "      <td>1.158787e+06</td>\n",
       "      <td>3.725753e+05</td>\n",
       "      <td>4.224977e+05</td>\n",
       "      <td>0.887852</td>\n",
       "      <td>1.111628</td>\n",
       "      <td>0.383016</td>\n",
       "      <td>0.948732</td>\n",
       "    </tr>\n",
       "    <tr>\n",
       "      <th>311</th>\n",
       "      <td>2022-12-01</td>\n",
       "      <td>2.307476e+06</td>\n",
       "      <td>1.330279e+06</td>\n",
       "      <td>5.390266e+05</td>\n",
       "      <td>4.381695e+05</td>\n",
       "      <td>0.955670</td>\n",
       "      <td>1.028022</td>\n",
       "      <td>0.790884</td>\n",
       "      <td>0.965265</td>\n",
       "    </tr>\n",
       "    <tr>\n",
       "      <th>312</th>\n",
       "      <td>2023-01-01</td>\n",
       "      <td>2.265962e+06</td>\n",
       "      <td>1.241614e+06</td>\n",
       "      <td>3.878282e+05</td>\n",
       "      <td>6.365191e+05</td>\n",
       "      <td>0.933508</td>\n",
       "      <td>1.096018</td>\n",
       "      <td>0.438206</td>\n",
       "      <td>1.053859</td>\n",
       "    </tr>\n",
       "    <tr>\n",
       "      <th>313</th>\n",
       "      <td>2023-02-01</td>\n",
       "      <td>2.126338e+06</td>\n",
       "      <td>1.271765e+06</td>\n",
       "      <td>3.284183e+05</td>\n",
       "      <td>5.261546e+05</td>\n",
       "      <td>0.822813</td>\n",
       "      <td>1.115370</td>\n",
       "      <td>0.071774</td>\n",
       "      <td>1.032370</td>\n",
       "    </tr>\n",
       "    <tr>\n",
       "      <th>314</th>\n",
       "      <td>2023-03-01</td>\n",
       "      <td>2.336942e+06</td>\n",
       "      <td>1.314986e+06</td>\n",
       "      <td>4.592112e+05</td>\n",
       "      <td>5.627449e+05</td>\n",
       "      <td>0.882977</td>\n",
       "      <td>1.247430</td>\n",
       "      <td>0.171999</td>\n",
       "      <td>1.130289</td>\n",
       "    </tr>\n",
       "    <tr>\n",
       "      <th>315</th>\n",
       "      <td>2023-04-01</td>\n",
       "      <td>2.551511e+06</td>\n",
       "      <td>1.443439e+06</td>\n",
       "      <td>4.959418e+05</td>\n",
       "      <td>6.121309e+05</td>\n",
       "      <td>0.901849</td>\n",
       "      <td>1.020281</td>\n",
       "      <td>0.473673</td>\n",
       "      <td>1.106536</td>\n",
       "    </tr>\n",
       "    <tr>\n",
       "      <th>316</th>\n",
       "      <td>2023-05-01</td>\n",
       "      <td>3.178454e+06</td>\n",
       "      <td>1.760195e+06</td>\n",
       "      <td>7.584043e+05</td>\n",
       "      <td>6.598541e+05</td>\n",
       "      <td>1.048804</td>\n",
       "      <td>1.037163</td>\n",
       "      <td>0.973448</td>\n",
       "      <td>1.177569</td>\n",
       "    </tr>\n",
       "    <tr>\n",
       "      <th>317</th>\n",
       "      <td>2023-06-01</td>\n",
       "      <td>3.517258e+06</td>\n",
       "      <td>2.044867e+06</td>\n",
       "      <td>7.972342e+05</td>\n",
       "      <td>6.751565e+05</td>\n",
       "      <td>1.092483</td>\n",
       "      <td>1.078177</td>\n",
       "      <td>1.090935</td>\n",
       "      <td>1.138951</td>\n",
       "    </tr>\n",
       "    <tr>\n",
       "      <th>318</th>\n",
       "      <td>2023-07-01</td>\n",
       "      <td>3.571198e+06</td>\n",
       "      <td>1.921541e+06</td>\n",
       "      <td>6.724211e+05</td>\n",
       "      <td>9.772356e+05</td>\n",
       "      <td>1.046323</td>\n",
       "      <td>1.108645</td>\n",
       "      <td>0.665625</td>\n",
       "      <td>1.271558</td>\n",
       "    </tr>\n",
       "    <tr>\n",
       "      <th>319</th>\n",
       "      <td>2023-08-01</td>\n",
       "      <td>4.062432e+06</td>\n",
       "      <td>2.353083e+06</td>\n",
       "      <td>8.944081e+05</td>\n",
       "      <td>8.149410e+05</td>\n",
       "      <td>1.346437</td>\n",
       "      <td>1.420523</td>\n",
       "      <td>1.204847</td>\n",
       "      <td>1.305181</td>\n",
       "    </tr>\n",
       "    <tr>\n",
       "      <th>320</th>\n",
       "      <td>2023-09-01</td>\n",
       "      <td>4.303335e+06</td>\n",
       "      <td>2.392578e+06</td>\n",
       "      <td>1.079898e+06</td>\n",
       "      <td>8.308589e+05</td>\n",
       "      <td>1.023023</td>\n",
       "      <td>1.394845</td>\n",
       "      <td>0.422880</td>\n",
       "      <td>1.250582</td>\n",
       "    </tr>\n",
       "    <tr>\n",
       "      <th>321</th>\n",
       "      <td>2023-10-01</td>\n",
       "      <td>4.466095e+06</td>\n",
       "      <td>2.615158e+06</td>\n",
       "      <td>9.698143e+05</td>\n",
       "      <td>8.811227e+05</td>\n",
       "      <td>1.273914</td>\n",
       "      <td>1.272367</td>\n",
       "      <td>1.309509</td>\n",
       "      <td>1.240436</td>\n",
       "    </tr>\n",
       "    <tr>\n",
       "      <th>322</th>\n",
       "      <td>2023-11-01</td>\n",
       "      <td>4.679610e+06</td>\n",
       "      <td>2.749667e+06</td>\n",
       "      <td>9.110717e+05</td>\n",
       "      <td>1.018871e+06</td>\n",
       "      <td>1.395059</td>\n",
       "      <td>1.372885</td>\n",
       "      <td>1.445335</td>\n",
       "      <td>1.411542</td>\n",
       "    </tr>\n",
       "    <tr>\n",
       "      <th>323</th>\n",
       "      <td>2023-12-01</td>\n",
       "      <td>5.922687e+06</td>\n",
       "      <td>3.329593e+06</td>\n",
       "      <td>1.502195e+06</td>\n",
       "      <td>1.090900e+06</td>\n",
       "      <td>1.566739</td>\n",
       "      <td>1.502927</td>\n",
       "      <td>1.786866</td>\n",
       "      <td>1.489675</td>\n",
       "    </tr>\n",
       "    <tr>\n",
       "      <th>324</th>\n",
       "      <td>2024-01-01</td>\n",
       "      <td>7.699887e+06</td>\n",
       "      <td>3.558663e+06</td>\n",
       "      <td>2.475464e+06</td>\n",
       "      <td>1.665760e+06</td>\n",
       "      <td>2.398066</td>\n",
       "      <td>1.866158</td>\n",
       "      <td>5.382887</td>\n",
       "      <td>1.616984</td>\n",
       "    </tr>\n",
       "    <tr>\n",
       "      <th>325</th>\n",
       "      <td>2024-02-01</td>\n",
       "      <td>7.249314e+06</td>\n",
       "      <td>4.080092e+06</td>\n",
       "      <td>1.620354e+06</td>\n",
       "      <td>1.548869e+06</td>\n",
       "      <td>2.409295</td>\n",
       "      <td>2.208212</td>\n",
       "      <td>3.933811</td>\n",
       "      <td>1.943752</td>\n",
       "    </tr>\n",
       "    <tr>\n",
       "      <th>326</th>\n",
       "      <td>2024-03-01</td>\n",
       "      <td>7.726459e+06</td>\n",
       "      <td>4.267789e+06</td>\n",
       "      <td>1.718411e+06</td>\n",
       "      <td>1.740259e+06</td>\n",
       "      <td>2.306226</td>\n",
       "      <td>2.245500</td>\n",
       "      <td>2.742094</td>\n",
       "      <td>2.092447</td>\n",
       "    </tr>\n",
       "    <tr>\n",
       "      <th>327</th>\n",
       "      <td>2024-04-01</td>\n",
       "      <td>8.663813e+06</td>\n",
       "      <td>4.752901e+06</td>\n",
       "      <td>1.968823e+06</td>\n",
       "      <td>1.942089e+06</td>\n",
       "      <td>2.395561</td>\n",
       "      <td>2.292763</td>\n",
       "      <td>2.969867</td>\n",
       "      <td>2.172669</td>\n",
       "    </tr>\n",
       "    <tr>\n",
       "      <th>328</th>\n",
       "      <td>2024-05-01</td>\n",
       "      <td>1.337945e+07</td>\n",
       "      <td>8.758909e+06</td>\n",
       "      <td>2.411238e+06</td>\n",
       "      <td>2.209300e+06</td>\n",
       "      <td>3.209420</td>\n",
       "      <td>3.976101</td>\n",
       "      <td>2.179357</td>\n",
       "      <td>2.348165</td>\n",
       "    </tr>\n",
       "    <tr>\n",
       "      <th>329</th>\n",
       "      <td>2024-06-01</td>\n",
       "      <td>1.129765e+07</td>\n",
       "      <td>7.178857e+06</td>\n",
       "      <td>1.870857e+06</td>\n",
       "      <td>2.247935e+06</td>\n",
       "      <td>2.212062</td>\n",
       "      <td>2.510672</td>\n",
       "      <td>1.346685</td>\n",
       "      <td>2.329502</td>\n",
       "    </tr>\n",
       "    <tr>\n",
       "      <th>330</th>\n",
       "      <td>2024-07-01</td>\n",
       "      <td>1.191055e+07</td>\n",
       "      <td>6.200594e+06</td>\n",
       "      <td>2.485200e+06</td>\n",
       "      <td>3.224754e+06</td>\n",
       "      <td>2.335169</td>\n",
       "      <td>2.226885</td>\n",
       "      <td>2.695898</td>\n",
       "      <td>2.299874</td>\n",
       "    </tr>\n",
       "    <tr>\n",
       "      <th>331</th>\n",
       "      <td>2024-08-01</td>\n",
       "      <td>1.176413e+07</td>\n",
       "      <td>7.011515e+06</td>\n",
       "      <td>2.179537e+06</td>\n",
       "      <td>2.573080e+06</td>\n",
       "      <td>1.895835</td>\n",
       "      <td>1.979715</td>\n",
       "      <td>1.436848</td>\n",
       "      <td>2.157382</td>\n",
       "    </tr>\n",
       "    <tr>\n",
       "      <th>332</th>\n",
       "      <td>2024-09-01</td>\n",
       "      <td>1.284446e+07</td>\n",
       "      <td>7.362744e+06</td>\n",
       "      <td>2.810625e+06</td>\n",
       "      <td>2.671088e+06</td>\n",
       "      <td>1.984768</td>\n",
       "      <td>2.077326</td>\n",
       "      <td>1.602677</td>\n",
       "      <td>2.214851</td>\n",
       "    </tr>\n",
       "    <tr>\n",
       "      <th>333</th>\n",
       "      <td>2024-10-01</td>\n",
       "      <td>1.278038e+07</td>\n",
       "      <td>7.002532e+06</td>\n",
       "      <td>2.947080e+06</td>\n",
       "      <td>2.830768e+06</td>\n",
       "      <td>1.861645</td>\n",
       "      <td>1.677670</td>\n",
       "      <td>2.038809</td>\n",
       "      <td>2.212683</td>\n",
       "    </tr>\n",
       "    <tr>\n",
       "      <th>334</th>\n",
       "      <td>2024-11-01</td>\n",
       "      <td>1.302643e+07</td>\n",
       "      <td>7.413085e+06</td>\n",
       "      <td>2.666085e+06</td>\n",
       "      <td>2.947261e+06</td>\n",
       "      <td>1.783657</td>\n",
       "      <td>1.695994</td>\n",
       "      <td>1.926317</td>\n",
       "      <td>1.892673</td>\n",
       "    </tr>\n",
       "    <tr>\n",
       "      <th>335</th>\n",
       "      <td>2024-12-01</td>\n",
       "      <td>1.301518e+07</td>\n",
       "      <td>7.149971e+06</td>\n",
       "      <td>2.855421e+06</td>\n",
       "      <td>3.009791e+06</td>\n",
       "      <td>1.197513</td>\n",
       "      <td>1.147401</td>\n",
       "      <td>0.900833</td>\n",
       "      <td>1.758999</td>\n",
       "    </tr>\n",
       "    <tr>\n",
       "      <th>336</th>\n",
       "      <td>2025-01-01</td>\n",
       "      <td>1.503169e+07</td>\n",
       "      <td>7.444397e+06</td>\n",
       "      <td>3.266325e+06</td>\n",
       "      <td>4.320970e+06</td>\n",
       "      <td>0.952196</td>\n",
       "      <td>1.091908</td>\n",
       "      <td>0.319480</td>\n",
       "      <td>1.593993</td>\n",
       "    </tr>\n",
       "    <tr>\n",
       "      <th>337</th>\n",
       "      <td>2025-02-01</td>\n",
       "      <td>1.352084e+07</td>\n",
       "      <td>7.077296e+06</td>\n",
       "      <td>3.049575e+06</td>\n",
       "      <td>3.393967e+06</td>\n",
       "      <td>0.865120</td>\n",
       "      <td>0.734592</td>\n",
       "      <td>0.882043</td>\n",
       "      <td>1.191255</td>\n",
       "    </tr>\n",
       "  </tbody>\n",
       "</table>\n",
       "</div>"
      ],
      "text/plain": [
       "    indice_tiempo  total_recaudacion           DGI           DGA  \\\n",
       "300    2022-01-01       1.171943e+06  5.923682e+05  2.696611e+05   \n",
       "301    2022-02-01       1.166514e+06  6.012020e+05  3.064250e+05   \n",
       "302    2022-03-01       1.241089e+06  5.851067e+05  3.918187e+05   \n",
       "303    2022-04-01       1.341595e+06  7.144743e+05  3.365345e+05   \n",
       "304    2022-05-01       1.551370e+06  8.640426e+05  3.843042e+05   \n",
       "305    2022-06-01       1.680901e+06  9.839717e+05  3.812812e+05   \n",
       "306    2022-07-01       1.745178e+06  9.112681e+05  4.037051e+05   \n",
       "307    2022-08-01       1.731319e+06  9.721383e+05  4.056555e+05   \n",
       "308    2022-09-01       2.127181e+06  9.990536e+05  7.589519e+05   \n",
       "309    2022-10-01       1.964056e+06  1.150852e+06  4.199222e+05   \n",
       "310    2022-11-01       1.953860e+06  1.158787e+06  3.725753e+05   \n",
       "311    2022-12-01       2.307476e+06  1.330279e+06  5.390266e+05   \n",
       "312    2023-01-01       2.265962e+06  1.241614e+06  3.878282e+05   \n",
       "313    2023-02-01       2.126338e+06  1.271765e+06  3.284183e+05   \n",
       "314    2023-03-01       2.336942e+06  1.314986e+06  4.592112e+05   \n",
       "315    2023-04-01       2.551511e+06  1.443439e+06  4.959418e+05   \n",
       "316    2023-05-01       3.178454e+06  1.760195e+06  7.584043e+05   \n",
       "317    2023-06-01       3.517258e+06  2.044867e+06  7.972342e+05   \n",
       "318    2023-07-01       3.571198e+06  1.921541e+06  6.724211e+05   \n",
       "319    2023-08-01       4.062432e+06  2.353083e+06  8.944081e+05   \n",
       "320    2023-09-01       4.303335e+06  2.392578e+06  1.079898e+06   \n",
       "321    2023-10-01       4.466095e+06  2.615158e+06  9.698143e+05   \n",
       "322    2023-11-01       4.679610e+06  2.749667e+06  9.110717e+05   \n",
       "323    2023-12-01       5.922687e+06  3.329593e+06  1.502195e+06   \n",
       "324    2024-01-01       7.699887e+06  3.558663e+06  2.475464e+06   \n",
       "325    2024-02-01       7.249314e+06  4.080092e+06  1.620354e+06   \n",
       "326    2024-03-01       7.726459e+06  4.267789e+06  1.718411e+06   \n",
       "327    2024-04-01       8.663813e+06  4.752901e+06  1.968823e+06   \n",
       "328    2024-05-01       1.337945e+07  8.758909e+06  2.411238e+06   \n",
       "329    2024-06-01       1.129765e+07  7.178857e+06  1.870857e+06   \n",
       "330    2024-07-01       1.191055e+07  6.200594e+06  2.485200e+06   \n",
       "331    2024-08-01       1.176413e+07  7.011515e+06  2.179537e+06   \n",
       "332    2024-09-01       1.284446e+07  7.362744e+06  2.810625e+06   \n",
       "333    2024-10-01       1.278038e+07  7.002532e+06  2.947080e+06   \n",
       "334    2024-11-01       1.302643e+07  7.413085e+06  2.666085e+06   \n",
       "335    2024-12-01       1.301518e+07  7.149971e+06  2.855421e+06   \n",
       "336    2025-01-01       1.503169e+07  7.444397e+06  3.266325e+06   \n",
       "337    2025-02-01       1.352084e+07  7.077296e+06  3.049575e+06   \n",
       "\n",
       "     seguridad_social  total_recaudacion_var_ia  subtotal_dgi_var_ia  \\\n",
       "300      3.099137e+05                  0.516372             0.552926   \n",
       "301      2.588872e+05                  0.627856             0.565780   \n",
       "302      2.641636e+05                  0.624764             0.529989   \n",
       "303      2.905865e+05                  0.640329             0.646766   \n",
       "304      3.030232e+05                  0.798732             0.872008   \n",
       "305      3.156485e+05                  0.821418             0.975456   \n",
       "306      4.302049e+05                  0.870101             1.008316   \n",
       "307      3.535257e+05                  0.722181             0.713831   \n",
       "308      3.691752e+05                  1.178787             0.926838   \n",
       "309      3.932819e+05                  0.927845             1.109644   \n",
       "310      4.224977e+05                  0.887852             1.111628   \n",
       "311      4.381695e+05                  0.955670             1.028022   \n",
       "312      6.365191e+05                  0.933508             1.096018   \n",
       "313      5.261546e+05                  0.822813             1.115370   \n",
       "314      5.627449e+05                  0.882977             1.247430   \n",
       "315      6.121309e+05                  0.901849             1.020281   \n",
       "316      6.598541e+05                  1.048804             1.037163   \n",
       "317      6.751565e+05                  1.092483             1.078177   \n",
       "318      9.772356e+05                  1.046323             1.108645   \n",
       "319      8.149410e+05                  1.346437             1.420523   \n",
       "320      8.308589e+05                  1.023023             1.394845   \n",
       "321      8.811227e+05                  1.273914             1.272367   \n",
       "322      1.018871e+06                  1.395059             1.372885   \n",
       "323      1.090900e+06                  1.566739             1.502927   \n",
       "324      1.665760e+06                  2.398066             1.866158   \n",
       "325      1.548869e+06                  2.409295             2.208212   \n",
       "326      1.740259e+06                  2.306226             2.245500   \n",
       "327      1.942089e+06                  2.395561             2.292763   \n",
       "328      2.209300e+06                  3.209420             3.976101   \n",
       "329      2.247935e+06                  2.212062             2.510672   \n",
       "330      3.224754e+06                  2.335169             2.226885   \n",
       "331      2.573080e+06                  1.895835             1.979715   \n",
       "332      2.671088e+06                  1.984768             2.077326   \n",
       "333      2.830768e+06                  1.861645             1.677670   \n",
       "334      2.947261e+06                  1.783657             1.695994   \n",
       "335      3.009791e+06                  1.197513             1.147401   \n",
       "336      4.320970e+06                  0.952196             1.091908   \n",
       "337      3.393967e+06                  0.865120             0.734592   \n",
       "\n",
       "     subtotal_dga_var_ia  seguridad_social_var_ia  \n",
       "300             0.327452                 0.646158  \n",
       "301             0.733741                 0.660704  \n",
       "302             0.775086                 0.643831  \n",
       "303             0.563843                 0.721280  \n",
       "304             0.681480                 0.757985  \n",
       "305             0.510531                 0.831550  \n",
       "306             0.686001                 0.792465  \n",
       "307             0.668156                 0.813893  \n",
       "308             1.980186                 0.817216  \n",
       "309             0.579255                 0.896573  \n",
       "310             0.383016                 0.948732  \n",
       "311             0.790884                 0.965265  \n",
       "312             0.438206                 1.053859  \n",
       "313             0.071774                 1.032370  \n",
       "314             0.171999                 1.130289  \n",
       "315             0.473673                 1.106536  \n",
       "316             0.973448                 1.177569  \n",
       "317             1.090935                 1.138951  \n",
       "318             0.665625                 1.271558  \n",
       "319             1.204847                 1.305181  \n",
       "320             0.422880                 1.250582  \n",
       "321             1.309509                 1.240436  \n",
       "322             1.445335                 1.411542  \n",
       "323             1.786866                 1.489675  \n",
       "324             5.382887                 1.616984  \n",
       "325             3.933811                 1.943752  \n",
       "326             2.742094                 2.092447  \n",
       "327             2.969867                 2.172669  \n",
       "328             2.179357                 2.348165  \n",
       "329             1.346685                 2.329502  \n",
       "330             2.695898                 2.299874  \n",
       "331             1.436848                 2.157382  \n",
       "332             1.602677                 2.214851  \n",
       "333             2.038809                 2.212683  \n",
       "334             1.926317                 1.892673  \n",
       "335             0.900833                 1.758999  \n",
       "336             0.319480                 1.593993  \n",
       "337             0.882043                 1.191255  "
      ]
     },
     "execution_count": 163,
     "metadata": {},
     "output_type": "execute_result"
    }
   ],
   "source": [
    "df_ultimos_3_anios"
   ]
  },
  {
   "cell_type": "code",
   "execution_count": 165,
   "id": "b063f04a-0794-434b-8edc-7b6fc13abb59",
   "metadata": {},
   "outputs": [
    {
     "data": {
      "application/vnd.plotly.v1+json": {
       "config": {
        "plotlyServerURL": "https://plot.ly"
       },
       "data": [
        {
         "mode": "lines",
         "name": "Total",
         "type": "scatter",
         "x": [
          "2022-01-01T00:00:00",
          "2022-02-01T00:00:00",
          "2022-03-01T00:00:00",
          "2022-04-01T00:00:00",
          "2022-05-01T00:00:00",
          "2022-06-01T00:00:00",
          "2022-07-01T00:00:00",
          "2022-08-01T00:00:00",
          "2022-09-01T00:00:00",
          "2022-10-01T00:00:00",
          "2022-11-01T00:00:00",
          "2022-12-01T00:00:00",
          "2023-01-01T00:00:00",
          "2023-02-01T00:00:00",
          "2023-03-01T00:00:00",
          "2023-04-01T00:00:00",
          "2023-05-01T00:00:00",
          "2023-06-01T00:00:00",
          "2023-07-01T00:00:00",
          "2023-08-01T00:00:00",
          "2023-09-01T00:00:00",
          "2023-10-01T00:00:00",
          "2023-11-01T00:00:00",
          "2023-12-01T00:00:00",
          "2024-01-01T00:00:00",
          "2024-02-01T00:00:00",
          "2024-03-01T00:00:00",
          "2024-04-01T00:00:00",
          "2024-05-01T00:00:00",
          "2024-06-01T00:00:00",
          "2024-07-01T00:00:00",
          "2024-08-01T00:00:00",
          "2024-09-01T00:00:00",
          "2024-10-01T00:00:00",
          "2024-11-01T00:00:00",
          "2024-12-01T00:00:00",
          "2025-01-01T00:00:00",
          "2025-02-01T00:00:00"
         ],
         "y": [
          1171943.0637611402,
          1166514.24060695,
          1241088.95711712,
          1341595.35611988,
          1551369.96283376,
          1680901.30723038,
          1745178.10466373,
          1731319.4924793502,
          2127180.67389125,
          1964056.35257018,
          1953859.6578480103,
          2307475.60560662,
          2265961.79873514,
          2126337.89725611,
          2336942.38424853,
          2551511.44943979,
          3178453.6382806497,
          3517257.61702437,
          3571198.0279958905,
          4062431.79948446,
          4303335.131374829,
          4466095.489322309,
          4679609.85737704,
          5922687.18486099,
          7699887.38525299,
          7249313.922219569,
          7726458.691607789,
          8663813.17291225,
          13379446.494132482,
          11297649.20446474,
          11910547.537222948,
          11764131.36139993,
          12844456.67623793,
          12780380.77223406,
          13026430.83240848,
          13015182.677521478,
          15031693.08669754,
          13520837.1049842
         ]
        }
       ],
       "layout": {
        "annotations": [
         {
          "arrowhead": 5,
          "ax": 0,
          "ay": -50,
          "bgcolor": "rgba(255,255,255,0.8)",
          "bordercolor": "black",
          "font": {
           "color": "black",
           "size": 12
          },
          "showarrow": true,
          "text": "Pico Máximo\n01 May 2024\n$13,379,446",
          "x": "2024-05-01T00:00:00",
          "y": 13379446.494132482
         },
         {
          "arrowhead": 5,
          "ax": 0,
          "ay": -50,
          "bgcolor": "rgba(255,255,255,0.8)",
          "bordercolor": "black",
          "font": {
           "color": "black",
           "size": 12
          },
          "showarrow": true,
          "text": "Pico Máximo\n01 Jan 2025\n$15,031,693",
          "x": "2025-01-01T00:00:00",
          "y": 15031693.08669754
         }
        ],
        "autosize": true,
        "showlegend": true,
        "template": {
         "data": {
          "bar": [
           {
            "error_x": {
             "color": "#2a3f5f"
            },
            "error_y": {
             "color": "#2a3f5f"
            },
            "marker": {
             "line": {
              "color": "#E5ECF6",
              "width": 0.5
             },
             "pattern": {
              "fillmode": "overlay",
              "size": 10,
              "solidity": 0.2
             }
            },
            "type": "bar"
           }
          ],
          "barpolar": [
           {
            "marker": {
             "line": {
              "color": "#E5ECF6",
              "width": 0.5
             },
             "pattern": {
              "fillmode": "overlay",
              "size": 10,
              "solidity": 0.2
             }
            },
            "type": "barpolar"
           }
          ],
          "carpet": [
           {
            "aaxis": {
             "endlinecolor": "#2a3f5f",
             "gridcolor": "white",
             "linecolor": "white",
             "minorgridcolor": "white",
             "startlinecolor": "#2a3f5f"
            },
            "baxis": {
             "endlinecolor": "#2a3f5f",
             "gridcolor": "white",
             "linecolor": "white",
             "minorgridcolor": "white",
             "startlinecolor": "#2a3f5f"
            },
            "type": "carpet"
           }
          ],
          "choropleth": [
           {
            "colorbar": {
             "outlinewidth": 0,
             "ticks": ""
            },
            "type": "choropleth"
           }
          ],
          "contour": [
           {
            "colorbar": {
             "outlinewidth": 0,
             "ticks": ""
            },
            "colorscale": [
             [
              0,
              "#0d0887"
             ],
             [
              0.1111111111111111,
              "#46039f"
             ],
             [
              0.2222222222222222,
              "#7201a8"
             ],
             [
              0.3333333333333333,
              "#9c179e"
             ],
             [
              0.4444444444444444,
              "#bd3786"
             ],
             [
              0.5555555555555556,
              "#d8576b"
             ],
             [
              0.6666666666666666,
              "#ed7953"
             ],
             [
              0.7777777777777778,
              "#fb9f3a"
             ],
             [
              0.8888888888888888,
              "#fdca26"
             ],
             [
              1,
              "#f0f921"
             ]
            ],
            "type": "contour"
           }
          ],
          "contourcarpet": [
           {
            "colorbar": {
             "outlinewidth": 0,
             "ticks": ""
            },
            "type": "contourcarpet"
           }
          ],
          "heatmap": [
           {
            "colorbar": {
             "outlinewidth": 0,
             "ticks": ""
            },
            "colorscale": [
             [
              0,
              "#0d0887"
             ],
             [
              0.1111111111111111,
              "#46039f"
             ],
             [
              0.2222222222222222,
              "#7201a8"
             ],
             [
              0.3333333333333333,
              "#9c179e"
             ],
             [
              0.4444444444444444,
              "#bd3786"
             ],
             [
              0.5555555555555556,
              "#d8576b"
             ],
             [
              0.6666666666666666,
              "#ed7953"
             ],
             [
              0.7777777777777778,
              "#fb9f3a"
             ],
             [
              0.8888888888888888,
              "#fdca26"
             ],
             [
              1,
              "#f0f921"
             ]
            ],
            "type": "heatmap"
           }
          ],
          "heatmapgl": [
           {
            "colorbar": {
             "outlinewidth": 0,
             "ticks": ""
            },
            "colorscale": [
             [
              0,
              "#0d0887"
             ],
             [
              0.1111111111111111,
              "#46039f"
             ],
             [
              0.2222222222222222,
              "#7201a8"
             ],
             [
              0.3333333333333333,
              "#9c179e"
             ],
             [
              0.4444444444444444,
              "#bd3786"
             ],
             [
              0.5555555555555556,
              "#d8576b"
             ],
             [
              0.6666666666666666,
              "#ed7953"
             ],
             [
              0.7777777777777778,
              "#fb9f3a"
             ],
             [
              0.8888888888888888,
              "#fdca26"
             ],
             [
              1,
              "#f0f921"
             ]
            ],
            "type": "heatmapgl"
           }
          ],
          "histogram": [
           {
            "marker": {
             "pattern": {
              "fillmode": "overlay",
              "size": 10,
              "solidity": 0.2
             }
            },
            "type": "histogram"
           }
          ],
          "histogram2d": [
           {
            "colorbar": {
             "outlinewidth": 0,
             "ticks": ""
            },
            "colorscale": [
             [
              0,
              "#0d0887"
             ],
             [
              0.1111111111111111,
              "#46039f"
             ],
             [
              0.2222222222222222,
              "#7201a8"
             ],
             [
              0.3333333333333333,
              "#9c179e"
             ],
             [
              0.4444444444444444,
              "#bd3786"
             ],
             [
              0.5555555555555556,
              "#d8576b"
             ],
             [
              0.6666666666666666,
              "#ed7953"
             ],
             [
              0.7777777777777778,
              "#fb9f3a"
             ],
             [
              0.8888888888888888,
              "#fdca26"
             ],
             [
              1,
              "#f0f921"
             ]
            ],
            "type": "histogram2d"
           }
          ],
          "histogram2dcontour": [
           {
            "colorbar": {
             "outlinewidth": 0,
             "ticks": ""
            },
            "colorscale": [
             [
              0,
              "#0d0887"
             ],
             [
              0.1111111111111111,
              "#46039f"
             ],
             [
              0.2222222222222222,
              "#7201a8"
             ],
             [
              0.3333333333333333,
              "#9c179e"
             ],
             [
              0.4444444444444444,
              "#bd3786"
             ],
             [
              0.5555555555555556,
              "#d8576b"
             ],
             [
              0.6666666666666666,
              "#ed7953"
             ],
             [
              0.7777777777777778,
              "#fb9f3a"
             ],
             [
              0.8888888888888888,
              "#fdca26"
             ],
             [
              1,
              "#f0f921"
             ]
            ],
            "type": "histogram2dcontour"
           }
          ],
          "mesh3d": [
           {
            "colorbar": {
             "outlinewidth": 0,
             "ticks": ""
            },
            "type": "mesh3d"
           }
          ],
          "parcoords": [
           {
            "line": {
             "colorbar": {
              "outlinewidth": 0,
              "ticks": ""
             }
            },
            "type": "parcoords"
           }
          ],
          "pie": [
           {
            "automargin": true,
            "type": "pie"
           }
          ],
          "scatter": [
           {
            "fillpattern": {
             "fillmode": "overlay",
             "size": 10,
             "solidity": 0.2
            },
            "type": "scatter"
           }
          ],
          "scatter3d": [
           {
            "line": {
             "colorbar": {
              "outlinewidth": 0,
              "ticks": ""
             }
            },
            "marker": {
             "colorbar": {
              "outlinewidth": 0,
              "ticks": ""
             }
            },
            "type": "scatter3d"
           }
          ],
          "scattercarpet": [
           {
            "marker": {
             "colorbar": {
              "outlinewidth": 0,
              "ticks": ""
             }
            },
            "type": "scattercarpet"
           }
          ],
          "scattergeo": [
           {
            "marker": {
             "colorbar": {
              "outlinewidth": 0,
              "ticks": ""
             }
            },
            "type": "scattergeo"
           }
          ],
          "scattergl": [
           {
            "marker": {
             "colorbar": {
              "outlinewidth": 0,
              "ticks": ""
             }
            },
            "type": "scattergl"
           }
          ],
          "scattermapbox": [
           {
            "marker": {
             "colorbar": {
              "outlinewidth": 0,
              "ticks": ""
             }
            },
            "type": "scattermapbox"
           }
          ],
          "scatterpolar": [
           {
            "marker": {
             "colorbar": {
              "outlinewidth": 0,
              "ticks": ""
             }
            },
            "type": "scatterpolar"
           }
          ],
          "scatterpolargl": [
           {
            "marker": {
             "colorbar": {
              "outlinewidth": 0,
              "ticks": ""
             }
            },
            "type": "scatterpolargl"
           }
          ],
          "scatterternary": [
           {
            "marker": {
             "colorbar": {
              "outlinewidth": 0,
              "ticks": ""
             }
            },
            "type": "scatterternary"
           }
          ],
          "surface": [
           {
            "colorbar": {
             "outlinewidth": 0,
             "ticks": ""
            },
            "colorscale": [
             [
              0,
              "#0d0887"
             ],
             [
              0.1111111111111111,
              "#46039f"
             ],
             [
              0.2222222222222222,
              "#7201a8"
             ],
             [
              0.3333333333333333,
              "#9c179e"
             ],
             [
              0.4444444444444444,
              "#bd3786"
             ],
             [
              0.5555555555555556,
              "#d8576b"
             ],
             [
              0.6666666666666666,
              "#ed7953"
             ],
             [
              0.7777777777777778,
              "#fb9f3a"
             ],
             [
              0.8888888888888888,
              "#fdca26"
             ],
             [
              1,
              "#f0f921"
             ]
            ],
            "type": "surface"
           }
          ],
          "table": [
           {
            "cells": {
             "fill": {
              "color": "#EBF0F8"
             },
             "line": {
              "color": "white"
             }
            },
            "header": {
             "fill": {
              "color": "#C8D4E3"
             },
             "line": {
              "color": "white"
             }
            },
            "type": "table"
           }
          ]
         },
         "layout": {
          "annotationdefaults": {
           "arrowcolor": "#2a3f5f",
           "arrowhead": 0,
           "arrowwidth": 1
          },
          "autotypenumbers": "strict",
          "coloraxis": {
           "colorbar": {
            "outlinewidth": 0,
            "ticks": ""
           }
          },
          "colorscale": {
           "diverging": [
            [
             0,
             "#8e0152"
            ],
            [
             0.1,
             "#c51b7d"
            ],
            [
             0.2,
             "#de77ae"
            ],
            [
             0.3,
             "#f1b6da"
            ],
            [
             0.4,
             "#fde0ef"
            ],
            [
             0.5,
             "#f7f7f7"
            ],
            [
             0.6,
             "#e6f5d0"
            ],
            [
             0.7,
             "#b8e186"
            ],
            [
             0.8,
             "#7fbc41"
            ],
            [
             0.9,
             "#4d9221"
            ],
            [
             1,
             "#276419"
            ]
           ],
           "sequential": [
            [
             0,
             "#0d0887"
            ],
            [
             0.1111111111111111,
             "#46039f"
            ],
            [
             0.2222222222222222,
             "#7201a8"
            ],
            [
             0.3333333333333333,
             "#9c179e"
            ],
            [
             0.4444444444444444,
             "#bd3786"
            ],
            [
             0.5555555555555556,
             "#d8576b"
            ],
            [
             0.6666666666666666,
             "#ed7953"
            ],
            [
             0.7777777777777778,
             "#fb9f3a"
            ],
            [
             0.8888888888888888,
             "#fdca26"
            ],
            [
             1,
             "#f0f921"
            ]
           ],
           "sequentialminus": [
            [
             0,
             "#0d0887"
            ],
            [
             0.1111111111111111,
             "#46039f"
            ],
            [
             0.2222222222222222,
             "#7201a8"
            ],
            [
             0.3333333333333333,
             "#9c179e"
            ],
            [
             0.4444444444444444,
             "#bd3786"
            ],
            [
             0.5555555555555556,
             "#d8576b"
            ],
            [
             0.6666666666666666,
             "#ed7953"
            ],
            [
             0.7777777777777778,
             "#fb9f3a"
            ],
            [
             0.8888888888888888,
             "#fdca26"
            ],
            [
             1,
             "#f0f921"
            ]
           ]
          },
          "colorway": [
           "#636efa",
           "#EF553B",
           "#00cc96",
           "#ab63fa",
           "#FFA15A",
           "#19d3f3",
           "#FF6692",
           "#B6E880",
           "#FF97FF",
           "#FECB52"
          ],
          "font": {
           "color": "#2a3f5f"
          },
          "geo": {
           "bgcolor": "white",
           "lakecolor": "white",
           "landcolor": "#E5ECF6",
           "showlakes": true,
           "showland": true,
           "subunitcolor": "white"
          },
          "hoverlabel": {
           "align": "left"
          },
          "hovermode": "closest",
          "mapbox": {
           "style": "light"
          },
          "paper_bgcolor": "white",
          "plot_bgcolor": "#E5ECF6",
          "polar": {
           "angularaxis": {
            "gridcolor": "white",
            "linecolor": "white",
            "ticks": ""
           },
           "bgcolor": "#E5ECF6",
           "radialaxis": {
            "gridcolor": "white",
            "linecolor": "white",
            "ticks": ""
           }
          },
          "scene": {
           "xaxis": {
            "backgroundcolor": "#E5ECF6",
            "gridcolor": "white",
            "gridwidth": 2,
            "linecolor": "white",
            "showbackground": true,
            "ticks": "",
            "zerolinecolor": "white"
           },
           "yaxis": {
            "backgroundcolor": "#E5ECF6",
            "gridcolor": "white",
            "gridwidth": 2,
            "linecolor": "white",
            "showbackground": true,
            "ticks": "",
            "zerolinecolor": "white"
           },
           "zaxis": {
            "backgroundcolor": "#E5ECF6",
            "gridcolor": "white",
            "gridwidth": 2,
            "linecolor": "white",
            "showbackground": true,
            "ticks": "",
            "zerolinecolor": "white"
           }
          },
          "shapedefaults": {
           "line": {
            "color": "#2a3f5f"
           }
          },
          "ternary": {
           "aaxis": {
            "gridcolor": "white",
            "linecolor": "white",
            "ticks": ""
           },
           "baxis": {
            "gridcolor": "white",
            "linecolor": "white",
            "ticks": ""
           },
           "bgcolor": "#E5ECF6",
           "caxis": {
            "gridcolor": "white",
            "linecolor": "white",
            "ticks": ""
           }
          },
          "title": {
           "x": 0.05
          },
          "xaxis": {
           "automargin": true,
           "gridcolor": "white",
           "linecolor": "white",
           "ticks": "",
           "title": {
            "standoff": 15
           },
           "zerolinecolor": "white",
           "zerolinewidth": 2
          },
          "yaxis": {
           "automargin": true,
           "gridcolor": "white",
           "linecolor": "white",
           "ticks": "",
           "title": {
            "standoff": 15
           },
           "zerolinecolor": "white",
           "zerolinewidth": 2
          }
         }
        },
        "title": {
         "text": "Tendencia de Recaudación en 2025"
        },
        "xaxis": {
         "autorange": true,
         "range": [
          "2022-01-01",
          "2025-06-15 20:25:43.5057"
         ],
         "tickformat": "%b %Y",
         "title": {
          "text": "Fecha"
         },
         "type": "date"
        },
        "yaxis": {
         "autorange": true,
         "range": [
          47351.822536857566,
          22430600.183938704
         ],
         "title": {
          "text": "Total Recaudación"
         },
         "type": "linear"
        }
       }
      },
      "image/png": "[encoded data removed]",
      "text/html": [
       "<div>                            <div id=\"917e2390-f822-4d4f-b3c7-ba4ebb6e6d89\" class=\"plotly-graph-div\" style=\"height:525px; width:100%;\"></div>            <script type=\"text/javascript\">                require([\"plotly\"], function(Plotly) {                    window.PLOTLYENV=window.PLOTLYENV || {};                                    if (document.getElementById(\"917e2390-f822-4d4f-b3c7-ba4ebb6e6d89\")) {                    Plotly.newPlot(                        \"917e2390-f822-4d4f-b3c7-ba4ebb6e6d89\",                        [{\"mode\":\"lines\",\"name\":\"Total\",\"x\":[\"2022-01-01T00:00:00\",\"2022-02-01T00:00:00\",\"2022-03-01T00:00:00\",\"2022-04-01T00:00:00\",\"2022-05-01T00:00:00\",\"2022-06-01T00:00:00\",\"2022-07-01T00:00:00\",\"2022-08-01T00:00:00\",\"2022-09-01T00:00:00\",\"2022-10-01T00:00:00\",\"2022-11-01T00:00:00\",\"2022-12-01T00:00:00\",\"2023-01-01T00:00:00\",\"2023-02-01T00:00:00\",\"2023-03-01T00:00:00\",\"2023-04-01T00:00:00\",\"2023-05-01T00:00:00\",\"2023-06-01T00:00:00\",\"2023-07-01T00:00:00\",\"2023-08-01T00:00:00\",\"2023-09-01T00:00:00\",\"2023-10-01T00:00:00\",\"2023-11-01T00:00:00\",\"2023-12-01T00:00:00\",\"2024-01-01T00:00:00\",\"2024-02-01T00:00:00\",\"2024-03-01T00:00:00\",\"2024-04-01T00:00:00\",\"2024-05-01T00:00:00\",\"2024-06-01T00:00:00\",\"2024-07-01T00:00:00\",\"2024-08-01T00:00:00\",\"2024-09-01T00:00:00\",\"2024-10-01T00:00:00\",\"2024-11-01T00:00:00\",\"2024-12-01T00:00:00\",\"2025-01-01T00:00:00\",\"2025-02-01T00:00:00\"],\"y\":[1171943.0637611402,1166514.24060695,1241088.95711712,1341595.35611988,1551369.96283376,1680901.30723038,1745178.10466373,1731319.4924793502,2127180.67389125,1964056.35257018,1953859.6578480103,2307475.60560662,2265961.79873514,2126337.89725611,2336942.38424853,2551511.44943979,3178453.6382806497,3517257.61702437,3571198.0279958905,4062431.79948446,4303335.131374829,4466095.489322309,4679609.85737704,5922687.18486099,7699887.38525299,7249313.922219569,7726458.691607789,8663813.17291225,13379446.494132482,11297649.20446474,11910547.537222948,11764131.36139993,12844456.67623793,12780380.77223406,13026430.83240848,13015182.677521478,15031693.08669754,13520837.1049842],\"type\":\"scatter\"}],                        {\"template\":{\"data\":{\"histogram2dcontour\":[{\"type\":\"histogram2dcontour\",\"colorbar\":{\"outlinewidth\":0,\"ticks\":\"\"},\"colorscale\":[[0.0,\"#0d0887\"],[0.1111111111111111,\"#46039f\"],[0.2222222222222222,\"#7201a8\"],[0.3333333333333333,\"#9c179e\"],[0.4444444444444444,\"#bd3786\"],[0.5555555555555556,\"#d8576b\"],[0.6666666666666666,\"#ed7953\"],[0.7777777777777778,\"#fb9f3a\"],[0.8888888888888888,\"#fdca26\"],[1.0,\"#f0f921\"]]}],\"choropleth\":[{\"type\":\"choropleth\",\"colorbar\":{\"outlinewidth\":0,\"ticks\":\"\"}}],\"histogram2d\":[{\"type\":\"histogram2d\",\"colorbar\":{\"outlinewidth\":0,\"ticks\":\"\"},\"colorscale\":[[0.0,\"#0d0887\"],[0.1111111111111111,\"#46039f\"],[0.2222222222222222,\"#7201a8\"],[0.3333333333333333,\"#9c179e\"],[0.4444444444444444,\"#bd3786\"],[0.5555555555555556,\"#d8576b\"],[0.6666666666666666,\"#ed7953\"],[0.7777777777777778,\"#fb9f3a\"],[0.8888888888888888,\"#fdca26\"],[1.0,\"#f0f921\"]]}],\"heatmap\":[{\"type\":\"heatmap\",\"colorbar\":{\"outlinewidth\":0,\"ticks\":\"\"},\"colorscale\":[[0.0,\"#0d0887\"],[0.1111111111111111,\"#46039f\"],[0.2222222222222222,\"#7201a8\"],[0.3333333333333333,\"#9c179e\"],[0.4444444444444444,\"#bd3786\"],[0.5555555555555556,\"#d8576b\"],[0.6666666666666666,\"#ed7953\"],[0.7777777777777778,\"#fb9f3a\"],[0.8888888888888888,\"#fdca26\"],[1.0,\"#f0f921\"]]}],\"heatmapgl\":[{\"type\":\"heatmapgl\",\"colorbar\":{\"outlinewidth\":0,\"ticks\":\"\"},\"colorscale\":[[0.0,\"#0d0887\"],[0.1111111111111111,\"#46039f\"],[0.2222222222222222,\"#7201a8\"],[0.3333333333333333,\"#9c179e\"],[0.4444444444444444,\"#bd3786\"],[0.5555555555555556,\"#d8576b\"],[0.6666666666666666,\"#ed7953\"],[0.7777777777777778,\"#fb9f3a\"],[0.8888888888888888,\"#fdca26\"],[1.0,\"#f0f921\"]]}],\"contourcarpet\":[{\"type\":\"contourcarpet\",\"colorbar\":{\"outlinewidth\":0,\"ticks\":\"\"}}],\"contour\":[{\"type\":\"contour\",\"colorbar\":{\"outlinewidth\":0,\"ticks\":\"\"},\"colorscale\":[[0.0,\"#0d0887\"],[0.1111111111111111,\"#46039f\"],[0.2222222222222222,\"#7201a8\"],[0.3333333333333333,\"#9c179e\"],[0.4444444444444444,\"#bd3786\"],[0.5555555555555556,\"#d8576b\"],[0.6666666666666666,\"#ed7953\"],[0.7777777777777778,\"#fb9f3a\"],[0.8888888888888888,\"#fdca26\"],[1.0,\"#f0f921\"]]}],\"surface\":[{\"type\":\"surface\",\"colorbar\":{\"outlinewidth\":0,\"ticks\":\"\"},\"colorscale\":[[0.0,\"#0d0887\"],[0.1111111111111111,\"#46039f\"],[0.2222222222222222,\"#7201a8\"],[0.3333333333333333,\"#9c179e\"],[0.4444444444444444,\"#bd3786\"],[0.5555555555555556,\"#d8576b\"],[0.6666666666666666,\"#ed7953\"],[0.7777777777777778,\"#fb9f3a\"],[0.8888888888888888,\"#fdca26\"],[1.0,\"#f0f921\"]]}],\"mesh3d\":[{\"type\":\"mesh3d\",\"colorbar\":{\"outlinewidth\":0,\"ticks\":\"\"}}],\"scatter\":[{\"fillpattern\":{\"fillmode\":\"overlay\",\"size\":10,\"solidity\":0.2},\"type\":\"scatter\"}],\"parcoords\":[{\"type\":\"parcoords\",\"line\":{\"colorbar\":{\"outlinewidth\":0,\"ticks\":\"\"}}}],\"scatterpolargl\":[{\"type\":\"scatterpolargl\",\"marker\":{\"colorbar\":{\"outlinewidth\":0,\"ticks\":\"\"}}}],\"bar\":[{\"error_x\":{\"color\":\"#2a3f5f\"},\"error_y\":{\"color\":\"#2a3f5f\"},\"marker\":{\"line\":{\"color\":\"#E5ECF6\",\"width\":0.5},\"pattern\":{\"fillmode\":\"overlay\",\"size\":10,\"solidity\":0.2}},\"type\":\"bar\"}],\"scattergeo\":[{\"type\":\"scattergeo\",\"marker\":{\"colorbar\":{\"outlinewidth\":0,\"ticks\":\"\"}}}],\"scatterpolar\":[{\"type\":\"scatterpolar\",\"marker\":{\"colorbar\":{\"outlinewidth\":0,\"ticks\":\"\"}}}],\"histogram\":[{\"marker\":{\"pattern\":{\"fillmode\":\"overlay\",\"size\":10,\"solidity\":0.2}},\"type\":\"histogram\"}],\"scattergl\":[{\"type\":\"scattergl\",\"marker\":{\"colorbar\":{\"outlinewidth\":0,\"ticks\":\"\"}}}],\"scatter3d\":[{\"type\":\"scatter3d\",\"line\":{\"colorbar\":{\"outlinewidth\":0,\"ticks\":\"\"}},\"marker\":{\"colorbar\":{\"outlinewidth\":0,\"ticks\":\"\"}}}],\"scattermapbox\":[{\"type\":\"scattermapbox\",\"marker\":{\"colorbar\":{\"outlinewidth\":0,\"ticks\":\"\"}}}],\"scatterternary\":[{\"type\":\"scatterternary\",\"marker\":{\"colorbar\":{\"outlinewidth\":0,\"ticks\":\"\"}}}],\"scattercarpet\":[{\"type\":\"scattercarpet\",\"marker\":{\"colorbar\":{\"outlinewidth\":0,\"ticks\":\"\"}}}],\"carpet\":[{\"aaxis\":{\"endlinecolor\":\"#2a3f5f\",\"gridcolor\":\"white\",\"linecolor\":\"white\",\"minorgridcolor\":\"white\",\"startlinecolor\":\"#2a3f5f\"},\"baxis\":{\"endlinecolor\":\"#2a3f5f\",\"gridcolor\":\"white\",\"linecolor\":\"white\",\"minorgridcolor\":\"white\",\"startlinecolor\":\"#2a3f5f\"},\"type\":\"carpet\"}],\"table\":[{\"cells\":{\"fill\":{\"color\":\"#EBF0F8\"},\"line\":{\"color\":\"white\"}},\"header\":{\"fill\":{\"color\":\"#C8D4E3\"},\"line\":{\"color\":\"white\"}},\"type\":\"table\"}],\"barpolar\":[{\"marker\":{\"line\":{\"color\":\"#E5ECF6\",\"width\":0.5},\"pattern\":{\"fillmode\":\"overlay\",\"size\":10,\"solidity\":0.2}},\"type\":\"barpolar\"}],\"pie\":[{\"automargin\":true,\"type\":\"pie\"}]},\"layout\":{\"autotypenumbers\":\"strict\",\"colorway\":[\"#636efa\",\"#EF553B\",\"#00cc96\",\"#ab63fa\",\"#FFA15A\",\"#19d3f3\",\"#FF6692\",\"#B6E880\",\"#FF97FF\",\"#FECB52\"],\"font\":{\"color\":\"#2a3f5f\"},\"hovermode\":\"closest\",\"hoverlabel\":{\"align\":\"left\"},\"paper_bgcolor\":\"white\",\"plot_bgcolor\":\"#E5ECF6\",\"polar\":{\"bgcolor\":\"#E5ECF6\",\"angularaxis\":{\"gridcolor\":\"white\",\"linecolor\":\"white\",\"ticks\":\"\"},\"radialaxis\":{\"gridcolor\":\"white\",\"linecolor\":\"white\",\"ticks\":\"\"}},\"ternary\":{\"bgcolor\":\"#E5ECF6\",\"aaxis\":{\"gridcolor\":\"white\",\"linecolor\":\"white\",\"ticks\":\"\"},\"baxis\":{\"gridcolor\":\"white\",\"linecolor\":\"white\",\"ticks\":\"\"},\"caxis\":{\"gridcolor\":\"white\",\"linecolor\":\"white\",\"ticks\":\"\"}},\"coloraxis\":{\"colorbar\":{\"outlinewidth\":0,\"ticks\":\"\"}},\"colorscale\":{\"sequential\":[[0.0,\"#0d0887\"],[0.1111111111111111,\"#46039f\"],[0.2222222222222222,\"#7201a8\"],[0.3333333333333333,\"#9c179e\"],[0.4444444444444444,\"#bd3786\"],[0.5555555555555556,\"#d8576b\"],[0.6666666666666666,\"#ed7953\"],[0.7777777777777778,\"#fb9f3a\"],[0.8888888888888888,\"#fdca26\"],[1.0,\"#f0f921\"]],\"sequentialminus\":[[0.0,\"#0d0887\"],[0.1111111111111111,\"#46039f\"],[0.2222222222222222,\"#7201a8\"],[0.3333333333333333,\"#9c179e\"],[0.4444444444444444,\"#bd3786\"],[0.5555555555555556,\"#d8576b\"],[0.6666666666666666,\"#ed7953\"],[0.7777777777777778,\"#fb9f3a\"],[0.8888888888888888,\"#fdca26\"],[1.0,\"#f0f921\"]],\"diverging\":[[0,\"#8e0152\"],[0.1,\"#c51b7d\"],[0.2,\"#de77ae\"],[0.3,\"#f1b6da\"],[0.4,\"#fde0ef\"],[0.5,\"#f7f7f7\"],[0.6,\"#e6f5d0\"],[0.7,\"#b8e186\"],[0.8,\"#7fbc41\"],[0.9,\"#4d9221\"],[1,\"#276419\"]]},\"xaxis\":{\"gridcolor\":\"white\",\"linecolor\":\"white\",\"ticks\":\"\",\"title\":{\"standoff\":15},\"zerolinecolor\":\"white\",\"automargin\":true,\"zerolinewidth\":2},\"yaxis\":{\"gridcolor\":\"white\",\"linecolor\":\"white\",\"ticks\":\"\",\"title\":{\"standoff\":15},\"zerolinecolor\":\"white\",\"automargin\":true,\"zerolinewidth\":2},\"scene\":{\"xaxis\":{\"backgroundcolor\":\"#E5ECF6\",\"gridcolor\":\"white\",\"linecolor\":\"white\",\"showbackground\":true,\"ticks\":\"\",\"zerolinecolor\":\"white\",\"gridwidth\":2},\"yaxis\":{\"backgroundcolor\":\"#E5ECF6\",\"gridcolor\":\"white\",\"linecolor\":\"white\",\"showbackground\":true,\"ticks\":\"\",\"zerolinecolor\":\"white\",\"gridwidth\":2},\"zaxis\":{\"backgroundcolor\":\"#E5ECF6\",\"gridcolor\":\"white\",\"linecolor\":\"white\",\"showbackground\":true,\"ticks\":\"\",\"zerolinecolor\":\"white\",\"gridwidth\":2}},\"shapedefaults\":{\"line\":{\"color\":\"#2a3f5f\"}},\"annotationdefaults\":{\"arrowcolor\":\"#2a3f5f\",\"arrowhead\":0,\"arrowwidth\":1},\"geo\":{\"bgcolor\":\"white\",\"landcolor\":\"#E5ECF6\",\"subunitcolor\":\"white\",\"showland\":true,\"showlakes\":true,\"lakecolor\":\"white\"},\"title\":{\"x\":0.05},\"mapbox\":{\"style\":\"light\"}}},\"title\":{\"text\":\"Tendencia de Recaudaci\\u00f3n en 2025\"},\"xaxis\":{\"title\":{\"text\":\"Fecha\"},\"tickformat\":\"%b %Y\"},\"yaxis\":{\"title\":{\"text\":\"Total Recaudaci\\u00f3n\"}},\"annotations\":[{\"arrowhead\":5,\"ax\":0,\"ay\":-50,\"bgcolor\":\"rgba(255,255,255,0.8)\",\"bordercolor\":\"black\",\"font\":{\"color\":\"black\",\"size\":12},\"showarrow\":true,\"text\":\"Pico M\\u00e1ximo\\n01 May 2024\\n$13,379,446\",\"x\":\"2024-05-01T00:00:00\",\"y\":13379446.494132482},{\"arrowhead\":5,\"ax\":0,\"ay\":-50,\"bgcolor\":\"rgba(255,255,255,0.8)\",\"bordercolor\":\"black\",\"font\":{\"color\":\"black\",\"size\":12},\"showarrow\":true,\"text\":\"Pico M\\u00e1ximo\\n01 Jan 2025\\n$15,031,693\",\"x\":\"2025-01-01T00:00:00\",\"y\":15031693.08669754}],\"showlegend\":true},                        {\"responsive\": true}                    ).then(function(){\n",
       "                            \n",
       "var gd = document.getElementById('917e2390-f822-4d4f-b3c7-ba4ebb6e6d89');\n",
       "var x = new MutationObserver(function (mutations, observer) {{\n",
       "        var display = window.getComputedStyle(gd).display;\n",
       "        if (!display || display === 'none') {{\n",
       "            console.log([gd, 'removed!']);\n",
       "            Plotly.purge(gd);\n",
       "            observer.disconnect();\n",
       "        }}\n",
       "}});\n",
       "\n",
       "// Listen for the removal of the full notebook cells\n",
       "var notebookContainer = gd.closest('#notebook-container');\n",
       "if (notebookContainer) {{\n",
       "    x.observe(notebookContainer, {childList: true});\n",
       "}}\n",
       "\n",
       "// Listen for the clearing of the current output cell\n",
       "var outputEl = gd.closest('.output');\n",
       "if (outputEl) {{\n",
       "    x.observe(outputEl, {childList: true});\n",
       "}}\n",
       "\n",
       "                        })                };                });            </script>        </div>"
      ]
     },
     "metadata": {},
     "output_type": "display_data"
    }
   ],
   "source": [
    "# Figuras\n",
    "figAnios = go.Figure()\n",
    "\n",
    "figAnios.add_trace(go.Scatter(x=df_ultimos_3_anios[\"indice_tiempo\"],\n",
    "                       y=df_ultimos_3_anios[\"total_recaudacion\"],\n",
    "                       mode='lines',\n",
    "                       name='Total'))\n",
    "figAnios.update_layout(go.Layout(\n",
    "            title='Tendencia Anual',\n",
    "            xaxis = dict(title = 'Año'),\n",
    "            yaxis = dict(title = 'Total Recaudación')\n",
    "))\n",
    "\n",
    "# Convertir la columna a formato datetime si no lo está\n",
    "df[\"indice_tiempo\"] = pd.to_datetime(df[\"indice_tiempo\"], errors='coerce')\n",
    "\n",
    "# Filtrar solo los datos del año 2024\n",
    "df_2024 = df[df[\"indice_tiempo\"].dt.year == 2024]\n",
    "\n",
    "# Encontrar el pico máximo de recaudación en 2024\n",
    "pico_max_2024 = df_2024[\"total_recaudacion\"].max()\n",
    "fila_pico_2024 = df_2024[df_2024[\"total_recaudacion\"] == pico_max_2024]\n",
    "\n",
    "# Extraer la fecha y el monto exactos\n",
    "fecha_pico = pd.Timestamp(fila_pico_2024[\"indice_tiempo\"].values[0])  # Convertir a Timestamp\n",
    "monto_pico = fila_pico_2024[\"total_recaudacion\"].values[0]  # Monto del pico\n",
    "\n",
    "# Agregar anotación en el punto máximo 2024\n",
    "figAnios.add_annotation(\n",
    "    x=fecha_pico,\n",
    "    y=monto_pico,\n",
    "    text=f\"Pico Máximo\\n{fecha_pico.strftime('%d %b %Y')}\\n${monto_pico:,.0f}\",\n",
    "    showarrow=True,\n",
    "    arrowhead=5,\n",
    "    ax=0,\n",
    "    ay=-50,\n",
    "    bgcolor=\"rgba(255,255,255,0.8)\",\n",
    "    bordercolor=\"black\",\n",
    "    font=dict(size=12, color=\"black\")\n",
    ")\n",
    "\n",
    "# Filtrar solo los datos del año 2024\n",
    "df_2025 = df[df[\"indice_tiempo\"].dt.year == 2025]\n",
    "\n",
    "# Encontrar el pico máximo de recaudación en 2024\n",
    "pico_max_2025 = df_2025[\"total_recaudacion\"].max()\n",
    "fila_pico_2025 = df_2025[df_2025[\"total_recaudacion\"] == pico_max_2025]\n",
    "\n",
    "# Extraer la fecha y el monto exactos\n",
    "fecha_pico_2025 = pd.Timestamp(fila_pico_2025[\"indice_tiempo\"].values[0])  # Convertir a Timestamp\n",
    "monto_pico_2025 = fila_pico_2025[\"total_recaudacion\"].values[0]  # Monto del pico\n",
    "\n",
    "# Agregar anotación en el punto máximo 2025\n",
    "figAnios.add_annotation(\n",
    "    x=fecha_pico_2025,\n",
    "    y=monto_pico_2025,\n",
    "    text=f\"Pico Máximo\\n{fecha_pico_2025.strftime('%d %b %Y')}\\n${monto_pico_2025:,.0f}\",\n",
    "    showarrow=True,\n",
    "    arrowhead=5,\n",
    "    ax=0,\n",
    "    ay=-50,\n",
    "    bgcolor=\"rgba(255,255,255,0.8)\",\n",
    "    bordercolor=\"black\",\n",
    "    font=dict(size=12, color=\"black\")\n",
    ")\n",
    "\n",
    "# Configurar diseño del gráfico\n",
    "figAnios.update_layout(\n",
    "    title=\"Tendencia de Recaudación en 2024\",\n",
    "    xaxis=dict(title=\"Fecha\", tickformat=\"%b %Y\"),\n",
    "    yaxis=dict(title=\"Total Recaudación\"),\n",
    "    showlegend=True\n",
    ")\n",
    "\n",
    "# Configurar diseño del gráfico\n",
    "figAnios.update_layout(\n",
    "    title=\"Tendencia de Recaudación en 2025\",\n",
    "    xaxis=dict(title=\"Fecha\", tickformat=\"%b %Y\"),\n",
    "    yaxis=dict(title=\"Total Recaudación\"),\n",
    "    showlegend=True\n",
    ")\n",
    "\n",
    "\n",
    "# Mostrar gráfico\n",
    "figAnios.show()"
   ]
  },
  {
   "cell_type": "code",
   "execution_count": 167,
   "id": "716f0fe2-2161-4b1b-a5bc-ee5f98a87ed0",
   "metadata": {},
   "outputs": [
    {
     "data": {
      "application/vnd.plotly.v1+json": {
       "config": {
        "plotlyServerURL": "https://plot.ly"
       },
       "data": [
        {
         "labels": [
          "DGI",
          "DGA",
          "Seguridad Social"
         ],
         "type": "pie",
         "values": [
          1171943.0637611402,
          1166514.24060695,
          1241088.95711712,
          1341595.35611988,
          1551369.96283376,
          1680901.30723038,
          1745178.10466373,
          1731319.4924793502,
          2127180.67389125,
          1964056.35257018,
          1953859.6578480103,
          2307475.60560662,
          2265961.79873514,
          2126337.89725611,
          2336942.38424853,
          2551511.44943979,
          3178453.6382806497,
          3517257.61702437,
          3571198.0279958905,
          4062431.79948446,
          4303335.131374829,
          4466095.489322309,
          4679609.85737704,
          5922687.18486099,
          7699887.38525299,
          7249313.922219569,
          7726458.691607789,
          8663813.17291225,
          13379446.494132482,
          11297649.20446474,
          11910547.537222948,
          11764131.36139993,
          12844456.67623793,
          12780380.77223406,
          13026430.83240848,
          13015182.677521478,
          15031693.08669754,
          13520837.1049842
         ]
        }
       ],
       "layout": {
        "autosize": true,
        "template": {
         "data": {
          "bar": [
           {
            "error_x": {
             "color": "#2a3f5f"
            },
            "error_y": {
             "color": "#2a3f5f"
            },
            "marker": {
             "line": {
              "color": "#E5ECF6",
              "width": 0.5
             },
             "pattern": {
              "fillmode": "overlay",
              "size": 10,
              "solidity": 0.2
             }
            },
            "type": "bar"
           }
          ],
          "barpolar": [
           {
            "marker": {
             "line": {
              "color": "#E5ECF6",
              "width": 0.5
             },
             "pattern": {
              "fillmode": "overlay",
              "size": 10,
              "solidity": 0.2
             }
            },
            "type": "barpolar"
           }
          ],
          "carpet": [
           {
            "aaxis": {
             "endlinecolor": "#2a3f5f",
             "gridcolor": "white",
             "linecolor": "white",
             "minorgridcolor": "white",
             "startlinecolor": "#2a3f5f"
            },
            "baxis": {
             "endlinecolor": "#2a3f5f",
             "gridcolor": "white",
             "linecolor": "white",
             "minorgridcolor": "white",
             "startlinecolor": "#2a3f5f"
            },
            "type": "carpet"
           }
          ],
          "choropleth": [
           {
            "colorbar": {
             "outlinewidth": 0,
             "ticks": ""
            },
            "type": "choropleth"
           }
          ],
          "contour": [
           {
            "colorbar": {
             "outlinewidth": 0,
             "ticks": ""
            },
            "colorscale": [
             [
              0,
              "#0d0887"
             ],
             [
              0.1111111111111111,
              "#46039f"
             ],
             [
              0.2222222222222222,
              "#7201a8"
             ],
             [
              0.3333333333333333,
              "#9c179e"
             ],
             [
              0.4444444444444444,
              "#bd3786"
             ],
             [
              0.5555555555555556,
              "#d8576b"
             ],
             [
              0.6666666666666666,
              "#ed7953"
             ],
             [
              0.7777777777777778,
              "#fb9f3a"
             ],
             [
              0.8888888888888888,
              "#fdca26"
             ],
             [
              1,
              "#f0f921"
             ]
            ],
            "type": "contour"
           }
          ],
          "contourcarpet": [
           {
            "colorbar": {
             "outlinewidth": 0,
             "ticks": ""
            },
            "type": "contourcarpet"
           }
          ],
          "heatmap": [
           {
            "colorbar": {
             "outlinewidth": 0,
             "ticks": ""
            },
            "colorscale": [
             [
              0,
              "#0d0887"
             ],
             [
              0.1111111111111111,
              "#46039f"
             ],
             [
              0.2222222222222222,
              "#7201a8"
             ],
             [
              0.3333333333333333,
              "#9c179e"
             ],
             [
              0.4444444444444444,
              "#bd3786"
             ],
             [
              0.5555555555555556,
              "#d8576b"
             ],
             [
              0.6666666666666666,
              "#ed7953"
             ],
             [
              0.7777777777777778,
              "#fb9f3a"
             ],
             [
              0.8888888888888888,
              "#fdca26"
             ],
             [
              1,
              "#f0f921"
             ]
            ],
            "type": "heatmap"
           }
          ],
          "heatmapgl": [
           {
            "colorbar": {
             "outlinewidth": 0,
             "ticks": ""
            },
            "colorscale": [
             [
              0,
              "#0d0887"
             ],
             [
              0.1111111111111111,
              "#46039f"
             ],
             [
              0.2222222222222222,
              "#7201a8"
             ],
             [
              0.3333333333333333,
              "#9c179e"
             ],
             [
              0.4444444444444444,
              "#bd3786"
             ],
             [
              0.5555555555555556,
              "#d8576b"
             ],
             [
              0.6666666666666666,
              "#ed7953"
             ],
             [
              0.7777777777777778,
              "#fb9f3a"
             ],
             [
              0.8888888888888888,
              "#fdca26"
             ],
             [
              1,
              "#f0f921"
             ]
            ],
            "type": "heatmapgl"
           }
          ],
          "histogram": [
           {
            "marker": {
             "pattern": {
              "fillmode": "overlay",
              "size": 10,
              "solidity": 0.2
             }
            },
            "type": "histogram"
           }
          ],
          "histogram2d": [
           {
            "colorbar": {
             "outlinewidth": 0,
             "ticks": ""
            },
            "colorscale": [
             [
              0,
              "#0d0887"
             ],
             [
              0.1111111111111111,
              "#46039f"
             ],
             [
              0.2222222222222222,
              "#7201a8"
             ],
             [
              0.3333333333333333,
              "#9c179e"
             ],
             [
              0.4444444444444444,
              "#bd3786"
             ],
             [
              0.5555555555555556,
              "#d8576b"
             ],
             [
              0.6666666666666666,
              "#ed7953"
             ],
             [
              0.7777777777777778,
              "#fb9f3a"
             ],
             [
              0.8888888888888888,
              "#fdca26"
             ],
             [
              1,
              "#f0f921"
             ]
            ],
            "type": "histogram2d"
           }
          ],
          "histogram2dcontour": [
           {
            "colorbar": {
             "outlinewidth": 0,
             "ticks": ""
            },
            "colorscale": [
             [
              0,
              "#0d0887"
             ],
             [
              0.1111111111111111,
              "#46039f"
             ],
             [
              0.2222222222222222,
              "#7201a8"
             ],
             [
              0.3333333333333333,
              "#9c179e"
             ],
             [
              0.4444444444444444,
              "#bd3786"
             ],
             [
              0.5555555555555556,
              "#d8576b"
             ],
             [
              0.6666666666666666,
              "#ed7953"
             ],
             [
              0.7777777777777778,
              "#fb9f3a"
             ],
             [
              0.8888888888888888,
              "#fdca26"
             ],
             [
              1,
              "#f0f921"
             ]
            ],
            "type": "histogram2dcontour"
           }
          ],
          "mesh3d": [
           {
            "colorbar": {
             "outlinewidth": 0,
             "ticks": ""
            },
            "type": "mesh3d"
           }
          ],
          "parcoords": [
           {
            "line": {
             "colorbar": {
              "outlinewidth": 0,
              "ticks": ""
             }
            },
            "type": "parcoords"
           }
          ],
          "pie": [
           {
            "automargin": true,
            "type": "pie"
           }
          ],
          "scatter": [
           {
            "fillpattern": {
             "fillmode": "overlay",
             "size": 10,
             "solidity": 0.2
            },
            "type": "scatter"
           }
          ],
          "scatter3d": [
           {
            "line": {
             "colorbar": {
              "outlinewidth": 0,
              "ticks": ""
             }
            },
            "marker": {
             "colorbar": {
              "outlinewidth": 0,
              "ticks": ""
             }
            },
            "type": "scatter3d"
           }
          ],
          "scattercarpet": [
           {
            "marker": {
             "colorbar": {
              "outlinewidth": 0,
              "ticks": ""
             }
            },
            "type": "scattercarpet"
           }
          ],
          "scattergeo": [
           {
            "marker": {
             "colorbar": {
              "outlinewidth": 0,
              "ticks": ""
             }
            },
            "type": "scattergeo"
           }
          ],
          "scattergl": [
           {
            "marker": {
             "colorbar": {
              "outlinewidth": 0,
              "ticks": ""
             }
            },
            "type": "scattergl"
           }
          ],
          "scattermapbox": [
           {
            "marker": {
             "colorbar": {
              "outlinewidth": 0,
              "ticks": ""
             }
            },
            "type": "scattermapbox"
           }
          ],
          "scatterpolar": [
           {
            "marker": {
             "colorbar": {
              "outlinewidth": 0,
              "ticks": ""
             }
            },
            "type": "scatterpolar"
           }
          ],
          "scatterpolargl": [
           {
            "marker": {
             "colorbar": {
              "outlinewidth": 0,
              "ticks": ""
             }
            },
            "type": "scatterpolargl"
           }
          ],
          "scatterternary": [
           {
            "marker": {
             "colorbar": {
              "outlinewidth": 0,
              "ticks": ""
             }
            },
            "type": "scatterternary"
           }
          ],
          "surface": [
           {
            "colorbar": {
             "outlinewidth": 0,
             "ticks": ""
            },
            "colorscale": [
             [
              0,
              "#0d0887"
             ],
             [
              0.1111111111111111,
              "#46039f"
             ],
             [
              0.2222222222222222,
              "#7201a8"
             ],
             [
              0.3333333333333333,
              "#9c179e"
             ],
             [
              0.4444444444444444,
              "#bd3786"
             ],
             [
              0.5555555555555556,
              "#d8576b"
             ],
             [
              0.6666666666666666,
              "#ed7953"
             ],
             [
              0.7777777777777778,
              "#fb9f3a"
             ],
             [
              0.8888888888888888,
              "#fdca26"
             ],
             [
              1,
              "#f0f921"
             ]
            ],
            "type": "surface"
           }
          ],
          "table": [
           {
            "cells": {
             "fill": {
              "color": "#EBF0F8"
             },
             "line": {
              "color": "white"
             }
            },
            "header": {
             "fill": {
              "color": "#C8D4E3"
             },
             "line": {
              "color": "white"
             }
            },
            "type": "table"
           }
          ]
         },
         "layout": {
          "annotationdefaults": {
           "arrowcolor": "#2a3f5f",
           "arrowhead": 0,
           "arrowwidth": 1
          },
          "autotypenumbers": "strict",
          "coloraxis": {
           "colorbar": {
            "outlinewidth": 0,
            "ticks": ""
           }
          },
          "colorscale": {
           "diverging": [
            [
             0,
             "#8e0152"
            ],
            [
             0.1,
             "#c51b7d"
            ],
            [
             0.2,
             "#de77ae"
            ],
            [
             0.3,
             "#f1b6da"
            ],
            [
             0.4,
             "#fde0ef"
            ],
            [
             0.5,
             "#f7f7f7"
            ],
            [
             0.6,
             "#e6f5d0"
            ],
            [
             0.7,
             "#b8e186"
            ],
            [
             0.8,
             "#7fbc41"
            ],
            [
             0.9,
             "#4d9221"
            ],
            [
             1,
             "#276419"
            ]
           ],
           "sequential": [
            [
             0,
             "#0d0887"
            ],
            [
             0.1111111111111111,
             "#46039f"
            ],
            [
             0.2222222222222222,
             "#7201a8"
            ],
            [
             0.3333333333333333,
             "#9c179e"
            ],
            [
             0.4444444444444444,
             "#bd3786"
            ],
            [
             0.5555555555555556,
             "#d8576b"
            ],
            [
             0.6666666666666666,
             "#ed7953"
            ],
            [
             0.7777777777777778,
             "#fb9f3a"
            ],
            [
             0.8888888888888888,
             "#fdca26"
            ],
            [
             1,
             "#f0f921"
            ]
           ],
           "sequentialminus": [
            [
             0,
             "#0d0887"
            ],
            [
             0.1111111111111111,
             "#46039f"
            ],
            [
             0.2222222222222222,
             "#7201a8"
            ],
            [
             0.3333333333333333,
             "#9c179e"
            ],
            [
             0.4444444444444444,
             "#bd3786"
            ],
            [
             0.5555555555555556,
             "#d8576b"
            ],
            [
             0.6666666666666666,
             "#ed7953"
            ],
            [
             0.7777777777777778,
             "#fb9f3a"
            ],
            [
             0.8888888888888888,
             "#fdca26"
            ],
            [
             1,
             "#f0f921"
            ]
           ]
          },
          "colorway": [
           "#636efa",
           "#EF553B",
           "#00cc96",
           "#ab63fa",
           "#FFA15A",
           "#19d3f3",
           "#FF6692",
           "#B6E880",
           "#FF97FF",
           "#FECB52"
          ],
          "font": {
           "color": "#2a3f5f"
          },
          "geo": {
           "bgcolor": "white",
           "lakecolor": "white",
           "landcolor": "#E5ECF6",
           "showlakes": true,
           "showland": true,
           "subunitcolor": "white"
          },
          "hoverlabel": {
           "align": "left"
          },
          "hovermode": "closest",
          "mapbox": {
           "style": "light"
          },
          "paper_bgcolor": "white",
          "plot_bgcolor": "#E5ECF6",
          "polar": {
           "angularaxis": {
            "gridcolor": "white",
            "linecolor": "white",
            "ticks": ""
           },
           "bgcolor": "#E5ECF6",
           "radialaxis": {
            "gridcolor": "white",
            "linecolor": "white",
            "ticks": ""
           }
          },
          "scene": {
           "xaxis": {
            "backgroundcolor": "#E5ECF6",
            "gridcolor": "white",
            "gridwidth": 2,
            "linecolor": "white",
            "showbackground": true,
            "ticks": "",
            "zerolinecolor": "white"
           },
           "yaxis": {
            "backgroundcolor": "#E5ECF6",
            "gridcolor": "white",
            "gridwidth": 2,
            "linecolor": "white",
            "showbackground": true,
            "ticks": "",
            "zerolinecolor": "white"
           },
           "zaxis": {
            "backgroundcolor": "#E5ECF6",
            "gridcolor": "white",
            "gridwidth": 2,
            "linecolor": "white",
            "showbackground": true,
            "ticks": "",
            "zerolinecolor": "white"
           }
          },
          "shapedefaults": {
           "line": {
            "color": "#2a3f5f"
           }
          },
          "ternary": {
           "aaxis": {
            "gridcolor": "white",
            "linecolor": "white",
            "ticks": ""
           },
           "baxis": {
            "gridcolor": "white",
            "linecolor": "white",
            "ticks": ""
           },
           "bgcolor": "#E5ECF6",
           "caxis": {
            "gridcolor": "white",
            "linecolor": "white",
            "ticks": ""
           }
          },
          "title": {
           "x": 0.05
          },
          "xaxis": {
           "automargin": true,
           "gridcolor": "white",
           "linecolor": "white",
           "ticks": "",
           "title": {
            "standoff": 15
           },
           "zerolinecolor": "white",
           "zerolinewidth": 2
          },
          "yaxis": {
           "automargin": true,
           "gridcolor": "white",
           "linecolor": "white",
           "ticks": "",
           "title": {
            "standoff": 15
           },
           "zerolinecolor": "white",
           "zerolinewidth": 2
          }
         }
        },
        "title": {
         "text": "Porcentaje de Recaudación"
        }
       }
      },
      "image/png": "[encoded data removed]",
      "text/html": [
       "<div>                            <div id=\"c2afac8c-d0a8-4338-afd7-9f31e3b4b10e\" class=\"plotly-graph-div\" style=\"height:525px; width:100%;\"></div>            <script type=\"text/javascript\">                require([\"plotly\"], function(Plotly) {                    window.PLOTLYENV=window.PLOTLYENV || {};                                    if (document.getElementById(\"c2afac8c-d0a8-4338-afd7-9f31e3b4b10e\")) {                    Plotly.newPlot(                        \"c2afac8c-d0a8-4338-afd7-9f31e3b4b10e\",                        [{\"labels\":[\"DGI\",\"DGA\",\"Seguridad Social\"],\"values\":[1171943.0637611402,1166514.24060695,1241088.95711712,1341595.35611988,1551369.96283376,1680901.30723038,1745178.10466373,1731319.4924793502,2127180.67389125,1964056.35257018,1953859.6578480103,2307475.60560662,2265961.79873514,2126337.89725611,2336942.38424853,2551511.44943979,3178453.6382806497,3517257.61702437,3571198.0279958905,4062431.79948446,4303335.131374829,4466095.489322309,4679609.85737704,5922687.18486099,7699887.38525299,7249313.922219569,7726458.691607789,8663813.17291225,13379446.494132482,11297649.20446474,11910547.537222948,11764131.36139993,12844456.67623793,12780380.77223406,13026430.83240848,13015182.677521478,15031693.08669754,13520837.1049842],\"type\":\"pie\"}],                        {\"template\":{\"data\":{\"histogram2dcontour\":[{\"type\":\"histogram2dcontour\",\"colorbar\":{\"outlinewidth\":0,\"ticks\":\"\"},\"colorscale\":[[0.0,\"#0d0887\"],[0.1111111111111111,\"#46039f\"],[0.2222222222222222,\"#7201a8\"],[0.3333333333333333,\"#9c179e\"],[0.4444444444444444,\"#bd3786\"],[0.5555555555555556,\"#d8576b\"],[0.6666666666666666,\"#ed7953\"],[0.7777777777777778,\"#fb9f3a\"],[0.8888888888888888,\"#fdca26\"],[1.0,\"#f0f921\"]]}],\"choropleth\":[{\"type\":\"choropleth\",\"colorbar\":{\"outlinewidth\":0,\"ticks\":\"\"}}],\"histogram2d\":[{\"type\":\"histogram2d\",\"colorbar\":{\"outlinewidth\":0,\"ticks\":\"\"},\"colorscale\":[[0.0,\"#0d0887\"],[0.1111111111111111,\"#46039f\"],[0.2222222222222222,\"#7201a8\"],[0.3333333333333333,\"#9c179e\"],[0.4444444444444444,\"#bd3786\"],[0.5555555555555556,\"#d8576b\"],[0.6666666666666666,\"#ed7953\"],[0.7777777777777778,\"#fb9f3a\"],[0.8888888888888888,\"#fdca26\"],[1.0,\"#f0f921\"]]}],\"heatmap\":[{\"type\":\"heatmap\",\"colorbar\":{\"outlinewidth\":0,\"ticks\":\"\"},\"colorscale\":[[0.0,\"#0d0887\"],[0.1111111111111111,\"#46039f\"],[0.2222222222222222,\"#7201a8\"],[0.3333333333333333,\"#9c179e\"],[0.4444444444444444,\"#bd3786\"],[0.5555555555555556,\"#d8576b\"],[0.6666666666666666,\"#ed7953\"],[0.7777777777777778,\"#fb9f3a\"],[0.8888888888888888,\"#fdca26\"],[1.0,\"#f0f921\"]]}],\"heatmapgl\":[{\"type\":\"heatmapgl\",\"colorbar\":{\"outlinewidth\":0,\"ticks\":\"\"},\"colorscale\":[[0.0,\"#0d0887\"],[0.1111111111111111,\"#46039f\"],[0.2222222222222222,\"#7201a8\"],[0.3333333333333333,\"#9c179e\"],[0.4444444444444444,\"#bd3786\"],[0.5555555555555556,\"#d8576b\"],[0.6666666666666666,\"#ed7953\"],[0.7777777777777778,\"#fb9f3a\"],[0.8888888888888888,\"#fdca26\"],[1.0,\"#f0f921\"]]}],\"contourcarpet\":[{\"type\":\"contourcarpet\",\"colorbar\":{\"outlinewidth\":0,\"ticks\":\"\"}}],\"contour\":[{\"type\":\"contour\",\"colorbar\":{\"outlinewidth\":0,\"ticks\":\"\"},\"colorscale\":[[0.0,\"#0d0887\"],[0.1111111111111111,\"#46039f\"],[0.2222222222222222,\"#7201a8\"],[0.3333333333333333,\"#9c179e\"],[0.4444444444444444,\"#bd3786\"],[0.5555555555555556,\"#d8576b\"],[0.6666666666666666,\"#ed7953\"],[0.7777777777777778,\"#fb9f3a\"],[0.8888888888888888,\"#fdca26\"],[1.0,\"#f0f921\"]]}],\"surface\":[{\"type\":\"surface\",\"colorbar\":{\"outlinewidth\":0,\"ticks\":\"\"},\"colorscale\":[[0.0,\"#0d0887\"],[0.1111111111111111,\"#46039f\"],[0.2222222222222222,\"#7201a8\"],[0.3333333333333333,\"#9c179e\"],[0.4444444444444444,\"#bd3786\"],[0.5555555555555556,\"#d8576b\"],[0.6666666666666666,\"#ed7953\"],[0.7777777777777778,\"#fb9f3a\"],[0.8888888888888888,\"#fdca26\"],[1.0,\"#f0f921\"]]}],\"mesh3d\":[{\"type\":\"mesh3d\",\"colorbar\":{\"outlinewidth\":0,\"ticks\":\"\"}}],\"scatter\":[{\"fillpattern\":{\"fillmode\":\"overlay\",\"size\":10,\"solidity\":0.2},\"type\":\"scatter\"}],\"parcoords\":[{\"type\":\"parcoords\",\"line\":{\"colorbar\":{\"outlinewidth\":0,\"ticks\":\"\"}}}],\"scatterpolargl\":[{\"type\":\"scatterpolargl\",\"marker\":{\"colorbar\":{\"outlinewidth\":0,\"ticks\":\"\"}}}],\"bar\":[{\"error_x\":{\"color\":\"#2a3f5f\"},\"error_y\":{\"color\":\"#2a3f5f\"},\"marker\":{\"line\":{\"color\":\"#E5ECF6\",\"width\":0.5},\"pattern\":{\"fillmode\":\"overlay\",\"size\":10,\"solidity\":0.2}},\"type\":\"bar\"}],\"scattergeo\":[{\"type\":\"scattergeo\",\"marker\":{\"colorbar\":{\"outlinewidth\":0,\"ticks\":\"\"}}}],\"scatterpolar\":[{\"type\":\"scatterpolar\",\"marker\":{\"colorbar\":{\"outlinewidth\":0,\"ticks\":\"\"}}}],\"histogram\":[{\"marker\":{\"pattern\":{\"fillmode\":\"overlay\",\"size\":10,\"solidity\":0.2}},\"type\":\"histogram\"}],\"scattergl\":[{\"type\":\"scattergl\",\"marker\":{\"colorbar\":{\"outlinewidth\":0,\"ticks\":\"\"}}}],\"scatter3d\":[{\"type\":\"scatter3d\",\"line\":{\"colorbar\":{\"outlinewidth\":0,\"ticks\":\"\"}},\"marker\":{\"colorbar\":{\"outlinewidth\":0,\"ticks\":\"\"}}}],\"scattermapbox\":[{\"type\":\"scattermapbox\",\"marker\":{\"colorbar\":{\"outlinewidth\":0,\"ticks\":\"\"}}}],\"scatterternary\":[{\"type\":\"scatterternary\",\"marker\":{\"colorbar\":{\"outlinewidth\":0,\"ticks\":\"\"}}}],\"scattercarpet\":[{\"type\":\"scattercarpet\",\"marker\":{\"colorbar\":{\"outlinewidth\":0,\"ticks\":\"\"}}}],\"carpet\":[{\"aaxis\":{\"endlinecolor\":\"#2a3f5f\",\"gridcolor\":\"white\",\"linecolor\":\"white\",\"minorgridcolor\":\"white\",\"startlinecolor\":\"#2a3f5f\"},\"baxis\":{\"endlinecolor\":\"#2a3f5f\",\"gridcolor\":\"white\",\"linecolor\":\"white\",\"minorgridcolor\":\"white\",\"startlinecolor\":\"#2a3f5f\"},\"type\":\"carpet\"}],\"table\":[{\"cells\":{\"fill\":{\"color\":\"#EBF0F8\"},\"line\":{\"color\":\"white\"}},\"header\":{\"fill\":{\"color\":\"#C8D4E3\"},\"line\":{\"color\":\"white\"}},\"type\":\"table\"}],\"barpolar\":[{\"marker\":{\"line\":{\"color\":\"#E5ECF6\",\"width\":0.5},\"pattern\":{\"fillmode\":\"overlay\",\"size\":10,\"solidity\":0.2}},\"type\":\"barpolar\"}],\"pie\":[{\"automargin\":true,\"type\":\"pie\"}]},\"layout\":{\"autotypenumbers\":\"strict\",\"colorway\":[\"#636efa\",\"#EF553B\",\"#00cc96\",\"#ab63fa\",\"#FFA15A\",\"#19d3f3\",\"#FF6692\",\"#B6E880\",\"#FF97FF\",\"#FECB52\"],\"font\":{\"color\":\"#2a3f5f\"},\"hovermode\":\"closest\",\"hoverlabel\":{\"align\":\"left\"},\"paper_bgcolor\":\"white\",\"plot_bgcolor\":\"#E5ECF6\",\"polar\":{\"bgcolor\":\"#E5ECF6\",\"angularaxis\":{\"gridcolor\":\"white\",\"linecolor\":\"white\",\"ticks\":\"\"},\"radialaxis\":{\"gridcolor\":\"white\",\"linecolor\":\"white\",\"ticks\":\"\"}},\"ternary\":{\"bgcolor\":\"#E5ECF6\",\"aaxis\":{\"gridcolor\":\"white\",\"linecolor\":\"white\",\"ticks\":\"\"},\"baxis\":{\"gridcolor\":\"white\",\"linecolor\":\"white\",\"ticks\":\"\"},\"caxis\":{\"gridcolor\":\"white\",\"linecolor\":\"white\",\"ticks\":\"\"}},\"coloraxis\":{\"colorbar\":{\"outlinewidth\":0,\"ticks\":\"\"}},\"colorscale\":{\"sequential\":[[0.0,\"#0d0887\"],[0.1111111111111111,\"#46039f\"],[0.2222222222222222,\"#7201a8\"],[0.3333333333333333,\"#9c179e\"],[0.4444444444444444,\"#bd3786\"],[0.5555555555555556,\"#d8576b\"],[0.6666666666666666,\"#ed7953\"],[0.7777777777777778,\"#fb9f3a\"],[0.8888888888888888,\"#fdca26\"],[1.0,\"#f0f921\"]],\"sequentialminus\":[[0.0,\"#0d0887\"],[0.1111111111111111,\"#46039f\"],[0.2222222222222222,\"#7201a8\"],[0.3333333333333333,\"#9c179e\"],[0.4444444444444444,\"#bd3786\"],[0.5555555555555556,\"#d8576b\"],[0.6666666666666666,\"#ed7953\"],[0.7777777777777778,\"#fb9f3a\"],[0.8888888888888888,\"#fdca26\"],[1.0,\"#f0f921\"]],\"diverging\":[[0,\"#8e0152\"],[0.1,\"#c51b7d\"],[0.2,\"#de77ae\"],[0.3,\"#f1b6da\"],[0.4,\"#fde0ef\"],[0.5,\"#f7f7f7\"],[0.6,\"#e6f5d0\"],[0.7,\"#b8e186\"],[0.8,\"#7fbc41\"],[0.9,\"#4d9221\"],[1,\"#276419\"]]},\"xaxis\":{\"gridcolor\":\"white\",\"linecolor\":\"white\",\"ticks\":\"\",\"title\":{\"standoff\":15},\"zerolinecolor\":\"white\",\"automargin\":true,\"zerolinewidth\":2},\"yaxis\":{\"gridcolor\":\"white\",\"linecolor\":\"white\",\"ticks\":\"\",\"title\":{\"standoff\":15},\"zerolinecolor\":\"white\",\"automargin\":true,\"zerolinewidth\":2},\"scene\":{\"xaxis\":{\"backgroundcolor\":\"#E5ECF6\",\"gridcolor\":\"white\",\"linecolor\":\"white\",\"showbackground\":true,\"ticks\":\"\",\"zerolinecolor\":\"white\",\"gridwidth\":2},\"yaxis\":{\"backgroundcolor\":\"#E5ECF6\",\"gridcolor\":\"white\",\"linecolor\":\"white\",\"showbackground\":true,\"ticks\":\"\",\"zerolinecolor\":\"white\",\"gridwidth\":2},\"zaxis\":{\"backgroundcolor\":\"#E5ECF6\",\"gridcolor\":\"white\",\"linecolor\":\"white\",\"showbackground\":true,\"ticks\":\"\",\"zerolinecolor\":\"white\",\"gridwidth\":2}},\"shapedefaults\":{\"line\":{\"color\":\"#2a3f5f\"}},\"annotationdefaults\":{\"arrowcolor\":\"#2a3f5f\",\"arrowhead\":0,\"arrowwidth\":1},\"geo\":{\"bgcolor\":\"white\",\"landcolor\":\"#E5ECF6\",\"subunitcolor\":\"white\",\"showland\":true,\"showlakes\":true,\"lakecolor\":\"white\"},\"title\":{\"x\":0.05},\"mapbox\":{\"style\":\"light\"}}},\"title\":{\"text\":\"Porcentaje de Recaudaci\\u00f3n\"}},                        {\"responsive\": true}                    ).then(function(){\n",
       "                            \n",
       "var gd = document.getElementById('c2afac8c-d0a8-4338-afd7-9f31e3b4b10e');\n",
       "var x = new MutationObserver(function (mutations, observer) {{\n",
       "        var display = window.getComputedStyle(gd).display;\n",
       "        if (!display || display === 'none') {{\n",
       "            console.log([gd, 'removed!']);\n",
       "            Plotly.purge(gd);\n",
       "            observer.disconnect();\n",
       "        }}\n",
       "}});\n",
       "\n",
       "// Listen for the removal of the full notebook cells\n",
       "var notebookContainer = gd.closest('#notebook-container');\n",
       "if (notebookContainer) {{\n",
       "    x.observe(notebookContainer, {childList: true});\n",
       "}}\n",
       "\n",
       "// Listen for the clearing of the current output cell\n",
       "var outputEl = gd.closest('.output');\n",
       "if (outputEl) {{\n",
       "    x.observe(outputEl, {childList: true});\n",
       "}}\n",
       "\n",
       "                        })                };                });            </script>        </div>"
      ]
     },
     "metadata": {},
     "output_type": "display_data"
    }
   ],
   "source": [
    "figTorta = go.Figure()\n",
    "\n",
    "figTorta.add_trace(go.Pie(\n",
    "    labels=[\"DGI\", \"DGA\", \"Seguridad Social\"],\n",
    "    values=df_ultimos_3_anios[\"total_recaudacion\"]\n",
    "))\n",
    "figTorta.update_layout(go.Layout(\n",
    "            title='Porcentaje de Recaudación'\n",
    "))"
   ]
  },
  {
   "cell_type": "code",
   "execution_count": 169,
   "id": "04893b2b-25f1-4b87-a2e4-c74b291ff952",
   "metadata": {
    "scrolled": true
   },
   "outputs": [
    {
     "ename": "KeyError",
     "evalue": "'Año'",
     "output_type": "error",
     "traceback": [
      "\u001b[1;31m---------------------------------------------------------------------------\u001b[0m",
      "\u001b[1;31mKeyError\u001b[0m                                  Traceback (most recent call last)",
      "File \u001b[1;32m~\\anaconda3\\Lib\\site-packages\\pandas\\core\\indexes\\base.py:3805\u001b[0m, in \u001b[0;36mIndex.get_loc\u001b[1;34m(self, key)\u001b[0m\n\u001b[0;32m   3804\u001b[0m \u001b[38;5;28;01mtry\u001b[39;00m:\n\u001b[1;32m-> 3805\u001b[0m     \u001b[38;5;28;01mreturn\u001b[39;00m \u001b[38;5;28mself\u001b[39m\u001b[38;5;241m.\u001b[39m_engine\u001b[38;5;241m.\u001b[39mget_loc(casted_key)\n\u001b[0;32m   3806\u001b[0m \u001b[38;5;28;01mexcept\u001b[39;00m \u001b[38;5;167;01mKeyError\u001b[39;00m \u001b[38;5;28;01mas\u001b[39;00m err:\n",
      "File \u001b[1;32mindex.pyx:167\u001b[0m, in \u001b[0;36mpandas._libs.index.IndexEngine.get_loc\u001b[1;34m()\u001b[0m\n",
      "File \u001b[1;32mindex.pyx:196\u001b[0m, in \u001b[0;36mpandas._libs.index.IndexEngine.get_loc\u001b[1;34m()\u001b[0m\n",
      "File \u001b[1;32mpandas\\\\_libs\\\\hashtable_class_helper.pxi:7081\u001b[0m, in \u001b[0;36mpandas._libs.hashtable.PyObjectHashTable.get_item\u001b[1;34m()\u001b[0m\n",
      "File \u001b[1;32mpandas\\\\_libs\\\\hashtable_class_helper.pxi:7089\u001b[0m, in \u001b[0;36mpandas._libs.hashtable.PyObjectHashTable.get_item\u001b[1;34m()\u001b[0m\n",
      "\u001b[1;31mKeyError\u001b[0m: 'Año'",
      "\nThe above exception was the direct cause of the following exception:\n",
      "\u001b[1;31mKeyError\u001b[0m                                  Traceback (most recent call last)",
      "Cell \u001b[1;32mIn[169], line 5\u001b[0m\n\u001b[0;32m      2\u001b[0m fig, axs \u001b[38;5;241m=\u001b[39m plt\u001b[38;5;241m.\u001b[39msubplots(nrows\u001b[38;5;241m=\u001b[39m\u001b[38;5;241m1\u001b[39m, ncols\u001b[38;5;241m=\u001b[39m\u001b[38;5;241m3\u001b[39m, figsize\u001b[38;5;241m=\u001b[39m(\u001b[38;5;241m15\u001b[39m, \u001b[38;5;241m5\u001b[39m))  \n\u001b[0;32m      4\u001b[0m \u001b[38;5;28;01mfor\u001b[39;00m i, anio \u001b[38;5;129;01min\u001b[39;00m \u001b[38;5;28menumerate\u001b[39m(ultimos_anios):\n\u001b[1;32m----> 5\u001b[0m     df_anio \u001b[38;5;241m=\u001b[39m df[df[\u001b[38;5;124m\"\u001b[39m\u001b[38;5;124mAño\u001b[39m\u001b[38;5;124m\"\u001b[39m] \u001b[38;5;241m==\u001b[39m anio]\n\u001b[0;32m      7\u001b[0m     recaudacion \u001b[38;5;241m=\u001b[39m {\n\u001b[0;32m      8\u001b[0m         \u001b[38;5;124m\"\u001b[39m\u001b[38;5;124mDGI\u001b[39m\u001b[38;5;124m\"\u001b[39m: df_anio[\u001b[38;5;124m\"\u001b[39m\u001b[38;5;124msubtotal_dgi\u001b[39m\u001b[38;5;124m\"\u001b[39m]\u001b[38;5;241m.\u001b[39msum(),\n\u001b[0;32m      9\u001b[0m         \u001b[38;5;124m\"\u001b[39m\u001b[38;5;124mDGA\u001b[39m\u001b[38;5;124m\"\u001b[39m: df_anio[\u001b[38;5;124m\"\u001b[39m\u001b[38;5;124msubtotal_dga\u001b[39m\u001b[38;5;124m\"\u001b[39m]\u001b[38;5;241m.\u001b[39msum(),\n\u001b[0;32m     10\u001b[0m         \u001b[38;5;124m\"\u001b[39m\u001b[38;5;124mSeguridad Social\u001b[39m\u001b[38;5;124m\"\u001b[39m: df_anio[\u001b[38;5;124m\"\u001b[39m\u001b[38;5;124mseguridad_social\u001b[39m\u001b[38;5;124m\"\u001b[39m]\u001b[38;5;241m.\u001b[39msum()\n\u001b[0;32m     11\u001b[0m     }\n\u001b[0;32m     13\u001b[0m     axs[i]\u001b[38;5;241m.\u001b[39mbar(recaudacion\u001b[38;5;241m.\u001b[39mkeys(), recaudacion\u001b[38;5;241m.\u001b[39mvalues(), color\u001b[38;5;241m=\u001b[39m[\u001b[38;5;124m'\u001b[39m\u001b[38;5;124mblue\u001b[39m\u001b[38;5;124m'\u001b[39m, \u001b[38;5;124m'\u001b[39m\u001b[38;5;124mgreen\u001b[39m\u001b[38;5;124m'\u001b[39m, \u001b[38;5;124m'\u001b[39m\u001b[38;5;124morange\u001b[39m\u001b[38;5;124m'\u001b[39m])\n",
      "File \u001b[1;32m~\\anaconda3\\Lib\\site-packages\\pandas\\core\\frame.py:4102\u001b[0m, in \u001b[0;36mDataFrame.__getitem__\u001b[1;34m(self, key)\u001b[0m\n\u001b[0;32m   4100\u001b[0m \u001b[38;5;28;01mif\u001b[39;00m \u001b[38;5;28mself\u001b[39m\u001b[38;5;241m.\u001b[39mcolumns\u001b[38;5;241m.\u001b[39mnlevels \u001b[38;5;241m>\u001b[39m \u001b[38;5;241m1\u001b[39m:\n\u001b[0;32m   4101\u001b[0m     \u001b[38;5;28;01mreturn\u001b[39;00m \u001b[38;5;28mself\u001b[39m\u001b[38;5;241m.\u001b[39m_getitem_multilevel(key)\n\u001b[1;32m-> 4102\u001b[0m indexer \u001b[38;5;241m=\u001b[39m \u001b[38;5;28mself\u001b[39m\u001b[38;5;241m.\u001b[39mcolumns\u001b[38;5;241m.\u001b[39mget_loc(key)\n\u001b[0;32m   4103\u001b[0m \u001b[38;5;28;01mif\u001b[39;00m is_integer(indexer):\n\u001b[0;32m   4104\u001b[0m     indexer \u001b[38;5;241m=\u001b[39m [indexer]\n",
      "File \u001b[1;32m~\\anaconda3\\Lib\\site-packages\\pandas\\core\\indexes\\base.py:3812\u001b[0m, in \u001b[0;36mIndex.get_loc\u001b[1;34m(self, key)\u001b[0m\n\u001b[0;32m   3807\u001b[0m     \u001b[38;5;28;01mif\u001b[39;00m \u001b[38;5;28misinstance\u001b[39m(casted_key, \u001b[38;5;28mslice\u001b[39m) \u001b[38;5;129;01mor\u001b[39;00m (\n\u001b[0;32m   3808\u001b[0m         \u001b[38;5;28misinstance\u001b[39m(casted_key, abc\u001b[38;5;241m.\u001b[39mIterable)\n\u001b[0;32m   3809\u001b[0m         \u001b[38;5;129;01mand\u001b[39;00m \u001b[38;5;28many\u001b[39m(\u001b[38;5;28misinstance\u001b[39m(x, \u001b[38;5;28mslice\u001b[39m) \u001b[38;5;28;01mfor\u001b[39;00m x \u001b[38;5;129;01min\u001b[39;00m casted_key)\n\u001b[0;32m   3810\u001b[0m     ):\n\u001b[0;32m   3811\u001b[0m         \u001b[38;5;28;01mraise\u001b[39;00m InvalidIndexError(key)\n\u001b[1;32m-> 3812\u001b[0m     \u001b[38;5;28;01mraise\u001b[39;00m \u001b[38;5;167;01mKeyError\u001b[39;00m(key) \u001b[38;5;28;01mfrom\u001b[39;00m \u001b[38;5;21;01merr\u001b[39;00m\n\u001b[0;32m   3813\u001b[0m \u001b[38;5;28;01mexcept\u001b[39;00m \u001b[38;5;167;01mTypeError\u001b[39;00m:\n\u001b[0;32m   3814\u001b[0m     \u001b[38;5;66;03m# If we have a listlike key, _check_indexing_error will raise\u001b[39;00m\n\u001b[0;32m   3815\u001b[0m     \u001b[38;5;66;03m#  InvalidIndexError. Otherwise we fall through and re-raise\u001b[39;00m\n\u001b[0;32m   3816\u001b[0m     \u001b[38;5;66;03m#  the TypeError.\u001b[39;00m\n\u001b[0;32m   3817\u001b[0m     \u001b[38;5;28mself\u001b[39m\u001b[38;5;241m.\u001b[39m_check_indexing_error(key)\n",
      "\u001b[1;31mKeyError\u001b[0m: 'Año'"
     ]
    },
    {
     "data": {
      "image/png": "[encoded data removed]",
      "text/plain": [
       "<Figure size 1500x500 with 3 Axes>"
      ]
     },
     "metadata": {},
     "output_type": "display_data"
    }
   ],
   "source": [
    "# Crear 3 recuadros horizontales\n",
    "fig, axs = plt.subplots(nrows=1, ncols=3, figsize=(15, 5))  \n",
    "\n",
    "for i, anio in enumerate(ultimos_anios):\n",
    "    df_anio = df[df[\"Año\"] == anio]\n",
    "\n",
    "    recaudacion = {\n",
    "        \"DGI\": df_anio[\"subtotal_dgi\"].sum(),\n",
    "        \"DGA\": df_anio[\"subtotal_dga\"].sum(),\n",
    "        \"Seguridad Social\": df_anio[\"seguridad_social\"].sum()\n",
    "    }\n",
    "\n",
    "    axs[i].bar(recaudacion.keys(), recaudacion.values(), color=['blue', 'green', 'orange'])\n",
    "    axs[i].set_title(f\"Recaudación {anio}\")\n",
    "    axs[i].set_xlabel(\"Organismo\")\n",
    "    axs[i].set_ylabel(\"Total Recaudación\")\n",
    "\n",
    "    for x, y in zip(recaudacion.keys(), recaudacion.values()):\n",
    "        axs[i].text(x, y, f\"{y:,.0f}\", ha='center', va='bottom', fontsize=10)\n",
    "\n",
    "plt.tight_layout()\n",
    "plt.show()"
   ]
  },
  {
   "cell_type": "code",
   "execution_count": null,
   "id": "126d3e8b-130b-4ad9-91f8-e178e3690a44",
   "metadata": {},
   "outputs": [],
   "source": []
  },
  {
   "cell_type": "code",
   "execution_count": null,
   "id": "f59a04dd-a391-4dcf-86f0-9a28d8ffdf65",
   "metadata": {},
   "outputs": [],
   "source": []
  }
 ],
 "metadata": {
  "kernelspec": {
   "display_name": "Python 3 (ipykernel)",
   "language": "python",
   "name": "python3"
  },
  "language_info": {
   "codemirror_mode": {
    "name": "ipython",
    "version": 3
   },
   "file_extension": ".py",
   "mimetype": "text/x-python",
   "name": "python",
   "nbconvert_exporter": "python",
   "pygments_lexer": "ipython3",
   "version": "3.12.7"
  }
 },
 "nbformat": 4,
 "nbformat_minor": 5
}
